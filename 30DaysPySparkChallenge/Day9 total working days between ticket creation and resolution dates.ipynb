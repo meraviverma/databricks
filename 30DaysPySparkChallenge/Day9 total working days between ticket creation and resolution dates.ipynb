{
 "cells": [
  {
   "cell_type": "code",
   "execution_count": 0,
   "metadata": {
    "application/vnd.databricks.v1+cell": {
     "cellMetadata": {
      "byteLimit": 2048000,
      "rowLimit": 10000
     },
     "inputWidgets": {},
     "nuid": "db25f41a-d39e-4a36-9532-0a119d7ed572",
     "showTitle": false,
     "title": ""
    }
   },
   "outputs": [],
   "source": [
    "# Given below #Jira ticket data and holiday data:\n",
    "# | ticket_id | create_date | resolved_date |\n",
    "# | 1 | 2022-08-01 | 2022-08-03 |\n",
    "# | 2 | 2022-08-01 | 2022-08-12 |\n",
    "# | 3 | 2022-08-01 | 2022-08-16 |\n",
    "\n",
    "# | holiday_date |\n",
    "# | 2022-08-11 |\n",
    "# | 2022-08-15 |\n",
    "\n",
    "# ❓Find out the total working days between ticket creation and resolution dates.\n",
    "\n",
    "# Notes: Exclude weekend i.e saturday and sunday"
   ]
  },
  {
   "cell_type": "code",
   "execution_count": 0,
   "metadata": {
    "application/vnd.databricks.v1+cell": {
     "cellMetadata": {
      "byteLimit": 2048000,
      "rowLimit": 10000
     },
     "inputWidgets": {},
     "nuid": "1fe3b437-9ef8-4abc-bc26-79718e27f899",
     "showTitle": false,
     "title": ""
    }
   },
   "outputs": [],
   "source": [
    "from datetime import datetime"
   ]
  },
  {
   "cell_type": "code",
   "execution_count": 0,
   "metadata": {
    "application/vnd.databricks.v1+cell": {
     "cellMetadata": {
      "byteLimit": 2048000,
      "rowLimit": 10000
     },
     "inputWidgets": {},
     "nuid": "636e2257-87b1-4566-8ea8-ba86c7239ee6",
     "showTitle": false,
     "title": ""
    }
   },
   "outputs": [],
   "source": [
    "from pyspark.sql.types import StructType,StructField,IntegerType,StringType,DateType"
   ]
  },
  {
   "cell_type": "code",
   "execution_count": 0,
   "metadata": {
    "application/vnd.databricks.v1+cell": {
     "cellMetadata": {
      "byteLimit": 2048000,
      "rowLimit": 10000
     },
     "inputWidgets": {},
     "nuid": "cc717781-ecaf-46d6-90af-71717665f2cc",
     "showTitle": false,
     "title": ""
    }
   },
   "outputs": [],
   "source": [
    "my_schema=StructType(\n",
    "    [\n",
    "        StructField(\"ticket_id\",IntegerType(),True),\n",
    "        StructField(\"create_date\",DateType(),True),\n",
    "        StructField(\"resolved_date\",DateType(),True)\n",
    "    ]\n",
    ")"
   ]
  },
  {
   "cell_type": "code",
   "execution_count": 0,
   "metadata": {
    "application/vnd.databricks.v1+cell": {
     "cellMetadata": {
      "byteLimit": 2048000,
      "rowLimit": 10000
     },
     "inputWidgets": {},
     "nuid": "ba22e7e1-65e3-4576-96e3-ad39583d87af",
     "showTitle": false,
     "title": ""
    }
   },
   "outputs": [],
   "source": [
    "mydata=[(1,datetime.strptime('2022-08-01','%Y-%m-%d'),datetime.strptime('2022-08-03','%Y-%m-%d')),\n",
    "        (2,datetime.strptime('2022-08-01','%Y-%m-%d'),datetime.strptime('2022-08-12','%Y-%m-%d')),\n",
    "        (3,datetime.strptime('2022-08-01','%Y-%m-%d'),datetime.strptime('2022-08-16','%Y-%m-%d'))]"
   ]
  },
  {
   "cell_type": "code",
   "execution_count": 0,
   "metadata": {
    "application/vnd.databricks.v1+cell": {
     "cellMetadata": {
      "byteLimit": 2048000,
      "rowLimit": 10000
     },
     "inputWidgets": {},
     "nuid": "1f3ebb3b-7b4c-4106-b7d7-e3449e8ff563",
     "showTitle": false,
     "title": ""
    }
   },
   "outputs": [],
   "source": [
    "tickets=spark.createDataFrame(data=mydata,schema=my_schema)"
   ]
  },
  {
   "cell_type": "code",
   "execution_count": 0,
   "metadata": {
    "application/vnd.databricks.v1+cell": {
     "cellMetadata": {
      "byteLimit": 2048000,
      "rowLimit": 10000
     },
     "inputWidgets": {},
     "nuid": "fcc0cabf-dbfe-494d-a607-5b5a013c793a",
     "showTitle": false,
     "title": ""
    }
   },
   "outputs": [
    {
     "output_type": "display_data",
     "data": {
      "text/html": [
       "<style scoped>\n",
       "  .table-result-container {\n",
       "    max-height: 300px;\n",
       "    overflow: auto;\n",
       "  }\n",
       "  table, th, td {\n",
       "    border: 1px solid black;\n",
       "    border-collapse: collapse;\n",
       "  }\n",
       "  th, td {\n",
       "    padding: 5px;\n",
       "  }\n",
       "  th {\n",
       "    text-align: left;\n",
       "  }\n",
       "</style><div class='table-result-container'><table class='table-result'><thead style='background-color: white'><tr><th>ticket_id</th><th>create_date</th><th>resolved_date</th></tr></thead><tbody><tr><td>1</td><td>2022-08-01</td><td>2022-08-03</td></tr><tr><td>2</td><td>2022-08-01</td><td>2022-08-12</td></tr><tr><td>3</td><td>2022-08-01</td><td>2022-08-16</td></tr></tbody></table></div>"
      ]
     },
     "metadata": {
      "application/vnd.databricks.v1+output": {
       "addedWidgets": {},
       "aggData": [],
       "aggError": "",
       "aggOverflow": false,
       "aggSchema": [],
       "aggSeriesLimitReached": false,
       "aggType": "",
       "arguments": {},
       "columnCustomDisplayInfos": {},
       "data": [
        [
         1,
         "2022-08-01",
         "2022-08-03"
        ],
        [
         2,
         "2022-08-01",
         "2022-08-12"
        ],
        [
         3,
         "2022-08-01",
         "2022-08-16"
        ]
       ],
       "datasetInfos": [],
       "dbfsResultPath": null,
       "isJsonSchema": true,
       "metadata": {},
       "overflow": false,
       "plotOptions": {
        "customPlotOptions": {},
        "displayType": "table",
        "pivotAggregation": null,
        "pivotColumns": null,
        "xColumns": null,
        "yColumns": null
       },
       "removedWidgets": [],
       "schema": [
        {
         "metadata": "{}",
         "name": "ticket_id",
         "type": "\"integer\""
        },
        {
         "metadata": "{}",
         "name": "create_date",
         "type": "\"date\""
        },
        {
         "metadata": "{}",
         "name": "resolved_date",
         "type": "\"date\""
        }
       ],
       "type": "table"
      }
     },
     "output_type": "display_data"
    }
   ],
   "source": [
    "display(tickets)"
   ]
  },
  {
   "cell_type": "code",
   "execution_count": 0,
   "metadata": {
    "application/vnd.databricks.v1+cell": {
     "cellMetadata": {
      "byteLimit": 2048000,
      "rowLimit": 10000
     },
     "inputWidgets": {},
     "nuid": "48421fec-79dd-4af7-a4ad-702af0a6b0cb",
     "showTitle": false,
     "title": ""
    }
   },
   "outputs": [],
   "source": [
    "holiday_schema=StructType([\n",
    "    StructField(\"holiday_date\",DateType(),True),\n",
    "    StructField(\"reason\",StringType(),True)\n",
    "])"
   ]
  },
  {
   "cell_type": "code",
   "execution_count": 0,
   "metadata": {
    "application/vnd.databricks.v1+cell": {
     "cellMetadata": {
      "byteLimit": 2048000,
      "rowLimit": 10000
     },
     "inputWidgets": {},
     "nuid": "87020922-e05e-40f2-a68e-f79aec965de7",
     "showTitle": false,
     "title": ""
    }
   },
   "outputs": [],
   "source": [
    "holiday_data=[(datetime.strptime('2022-08-11','%Y-%m-%d'),\"Rakhi\"),(datetime.strptime('2022-08-15','%Y-%m-%d'),\"Independence Day\")]"
   ]
  },
  {
   "cell_type": "code",
   "execution_count": 0,
   "metadata": {
    "application/vnd.databricks.v1+cell": {
     "cellMetadata": {
      "byteLimit": 2048000,
      "rowLimit": 10000
     },
     "inputWidgets": {},
     "nuid": "7d972ceb-6cb0-4bff-a01e-a8fa0d699c78",
     "showTitle": false,
     "title": ""
    }
   },
   "outputs": [],
   "source": [
    "holidays=spark.createDataFrame(data=holiday_data,schema=holiday_schema)"
   ]
  },
  {
   "cell_type": "code",
   "execution_count": 0,
   "metadata": {
    "application/vnd.databricks.v1+cell": {
     "cellMetadata": {
      "byteLimit": 2048000,
      "rowLimit": 10000
     },
     "inputWidgets": {},
     "nuid": "868d2cd0-7a5a-4b42-a602-d7707d81b67c",
     "showTitle": false,
     "title": ""
    }
   },
   "outputs": [
    {
     "output_type": "display_data",
     "data": {
      "text/html": [
       "<style scoped>\n",
       "  .table-result-container {\n",
       "    max-height: 300px;\n",
       "    overflow: auto;\n",
       "  }\n",
       "  table, th, td {\n",
       "    border: 1px solid black;\n",
       "    border-collapse: collapse;\n",
       "  }\n",
       "  th, td {\n",
       "    padding: 5px;\n",
       "  }\n",
       "  th {\n",
       "    text-align: left;\n",
       "  }\n",
       "</style><div class='table-result-container'><table class='table-result'><thead style='background-color: white'><tr><th>holiday_date</th><th>reason</th></tr></thead><tbody><tr><td>2022-08-11</td><td>Rakhi</td></tr><tr><td>2022-08-15</td><td>Independence Day</td></tr></tbody></table></div>"
      ]
     },
     "metadata": {
      "application/vnd.databricks.v1+output": {
       "addedWidgets": {},
       "aggData": [],
       "aggError": "",
       "aggOverflow": false,
       "aggSchema": [],
       "aggSeriesLimitReached": false,
       "aggType": "",
       "arguments": {},
       "columnCustomDisplayInfos": {},
       "data": [
        [
         "2022-08-11",
         "Rakhi"
        ],
        [
         "2022-08-15",
         "Independence Day"
        ]
       ],
       "datasetInfos": [],
       "dbfsResultPath": null,
       "isJsonSchema": true,
       "metadata": {},
       "overflow": false,
       "plotOptions": {
        "customPlotOptions": {},
        "displayType": "table",
        "pivotAggregation": null,
        "pivotColumns": null,
        "xColumns": null,
        "yColumns": null
       },
       "removedWidgets": [],
       "schema": [
        {
         "metadata": "{}",
         "name": "holiday_date",
         "type": "\"date\""
        },
        {
         "metadata": "{}",
         "name": "reason",
         "type": "\"string\""
        }
       ],
       "type": "table"
      }
     },
     "output_type": "display_data"
    }
   ],
   "source": [
    "display(holidays)"
   ]
  },
  {
   "cell_type": "code",
   "execution_count": 0,
   "metadata": {
    "application/vnd.databricks.v1+cell": {
     "cellMetadata": {
      "byteLimit": 2048000,
      "rowLimit": 10000
     },
     "inputWidgets": {},
     "nuid": "c0dbad8f-e334-4899-9492-41d4159778fd",
     "showTitle": false,
     "title": ""
    }
   },
   "outputs": [
    {
     "output_type": "display_data",
     "data": {
      "text/html": [
       "<style scoped>\n",
       "  .table-result-container {\n",
       "    max-height: 300px;\n",
       "    overflow: auto;\n",
       "  }\n",
       "  table, th, td {\n",
       "    border: 1px solid black;\n",
       "    border-collapse: collapse;\n",
       "  }\n",
       "  th, td {\n",
       "    padding: 5px;\n",
       "  }\n",
       "  th {\n",
       "    text-align: left;\n",
       "  }\n",
       "</style><div class='table-result-container'><table class='table-result'><thead style='background-color: white'><tr><th>ticket_id</th><th>create_date</th><th>resolved_date</th></tr></thead><tbody><tr><td>1</td><td>2022-08-01</td><td>2022-08-03</td></tr><tr><td>2</td><td>2022-08-01</td><td>2022-08-12</td></tr><tr><td>3</td><td>2022-08-01</td><td>2022-08-16</td></tr></tbody></table></div>"
      ]
     },
     "metadata": {
      "application/vnd.databricks.v1+output": {
       "addedWidgets": {},
       "aggData": [],
       "aggError": "",
       "aggOverflow": false,
       "aggSchema": [],
       "aggSeriesLimitReached": false,
       "aggType": "",
       "arguments": {},
       "columnCustomDisplayInfos": {},
       "data": [
        [
         1,
         "2022-08-01",
         "2022-08-03"
        ],
        [
         2,
         "2022-08-01",
         "2022-08-12"
        ],
        [
         3,
         "2022-08-01",
         "2022-08-16"
        ]
       ],
       "datasetInfos": [],
       "dbfsResultPath": null,
       "isJsonSchema": true,
       "metadata": {},
       "overflow": false,
       "plotOptions": {
        "customPlotOptions": {},
        "displayType": "table",
        "pivotAggregation": null,
        "pivotColumns": null,
        "xColumns": null,
        "yColumns": null
       },
       "removedWidgets": [],
       "schema": [
        {
         "metadata": "{}",
         "name": "ticket_id",
         "type": "\"integer\""
        },
        {
         "metadata": "{}",
         "name": "create_date",
         "type": "\"date\""
        },
        {
         "metadata": "{}",
         "name": "resolved_date",
         "type": "\"date\""
        }
       ],
       "type": "table"
      }
     },
     "output_type": "display_data"
    }
   ],
   "source": [
    "display(tickets)"
   ]
  },
  {
   "cell_type": "code",
   "execution_count": 0,
   "metadata": {
    "application/vnd.databricks.v1+cell": {
     "cellMetadata": {
      "byteLimit": 2048000,
      "rowLimit": 10000
     },
     "inputWidgets": {},
     "nuid": "9166bd49-3690-4b44-bc5c-549251773464",
     "showTitle": false,
     "title": ""
    }
   },
   "outputs": [],
   "source": [
    "from pyspark.sql.functions import datediff,date_part,lit,floor,col,count"
   ]
  },
  {
   "cell_type": "code",
   "execution_count": 0,
   "metadata": {
    "application/vnd.databricks.v1+cell": {
     "cellMetadata": {
      "byteLimit": 2048000,
      "rowLimit": 10000
     },
     "inputWidgets": {},
     "nuid": "411fb240-b148-4371-b3d5-3f88c536315c",
     "showTitle": false,
     "title": ""
    }
   },
   "outputs": [
    {
     "output_type": "stream",
     "name": "stdout",
     "output_type": "stream",
     "text": [
      "+-----------+-------------+-----------+----------------+------------------+---------------+---------------------+\n|create_date|resolved_date|actual_days|create_date_week|resolved_date_week|week_difference|excluded_weekend_days|\n+-----------+-------------+-----------+----------------+------------------+---------------+---------------------+\n| 2022-08-01|   2022-08-03|          2|              31|                31|              0|                    2|\n| 2022-08-01|   2022-08-12|         11|              31|                32|              1|                    9|\n| 2022-08-01|   2022-08-16|         15|              31|                33|              2|                   11|\n+-----------+-------------+-----------+----------------+------------------+---------------+---------------------+\n\n"
     ]
    }
   ],
   "source": [
    "#Between one week difference there will be two weekends so we are doing minus with 2*difference in days\n",
    "tickets.select(tickets.create_date,\n",
    "               tickets.resolved_date,\n",
    "               datediff(tickets.resolved_date,tickets.create_date).alias(\"actual_days\"),\n",
    "               date_part(lit('week'),tickets.create_date).alias(\"create_date_week\"),\n",
    "               date_part(lit('week'),tickets.resolved_date).alias(\"resolved_date_week\"),\n",
    "               floor((datediff(tickets.resolved_date,tickets.create_date)/7)).alias(\"week_difference\"),\n",
    "               (datediff(tickets.resolved_date,tickets.create_date) - 2*(floor((datediff(tickets.resolved_date,tickets.create_date)/7)))).alias(\"excluded_weekend_days\")).show()"
   ]
  },
  {
   "cell_type": "code",
   "execution_count": 0,
   "metadata": {
    "application/vnd.databricks.v1+cell": {
     "cellMetadata": {
      "byteLimit": 2048000,
      "rowLimit": 10000
     },
     "inputWidgets": {},
     "nuid": "d56a0bda-218f-48ac-91fe-a8bdf89a0119",
     "showTitle": false,
     "title": ""
    }
   },
   "outputs": [],
   "source": [
    "from pyspark.sql.window import Window"
   ]
  },
  {
   "cell_type": "code",
   "execution_count": 0,
   "metadata": {
    "application/vnd.databricks.v1+cell": {
     "cellMetadata": {
      "byteLimit": 2048000,
      "rowLimit": 10000
     },
     "inputWidgets": {},
     "nuid": "28c88656-15de-4834-b2e9-cd0a9d301332",
     "showTitle": false,
     "title": ""
    }
   },
   "outputs": [],
   "source": [
    "joined_data=tickets.join(holidays,(tickets.create_date < holidays.holiday_date) & (holidays.holiday_date < tickets.resolved_date),\"LEFT\")\n",
    "#joined_data.withColumn(\"count_holiday_day\",count(\"holiday_date\").over(Window.partitionBy(*[\"ticket_id\",\"create_date\",\"resolved_date\"]))).select(col(\"count_holiday_day\")).show()\n",
    "#joined_data.select(count(\"holiday_date\").over(Window.partitionBy(*[\"ticket_id\",\"create_date\",\"resolved_date\"])).alias(\"count_holiday_day\")).show()\n",
    "joined_data=joined_data.groupBy(\"ticket_id\",\"create_date\",\"resolved_date\").agg(count('holiday_date').alias(\"count_holiday_day\"))"
   ]
  },
  {
   "cell_type": "code",
   "execution_count": 0,
   "metadata": {
    "application/vnd.databricks.v1+cell": {
     "cellMetadata": {
      "byteLimit": 2048000,
      "rowLimit": 10000
     },
     "inputWidgets": {},
     "nuid": "6c9ac86c-7104-4c87-844f-ad7a6bd93c30",
     "showTitle": false,
     "title": ""
    }
   },
   "outputs": [
    {
     "output_type": "display_data",
     "data": {
      "text/html": [
       "<style scoped>\n",
       "  .table-result-container {\n",
       "    max-height: 300px;\n",
       "    overflow: auto;\n",
       "  }\n",
       "  table, th, td {\n",
       "    border: 1px solid black;\n",
       "    border-collapse: collapse;\n",
       "  }\n",
       "  th, td {\n",
       "    padding: 5px;\n",
       "  }\n",
       "  th {\n",
       "    text-align: left;\n",
       "  }\n",
       "</style><div class='table-result-container'><table class='table-result'><thead style='background-color: white'><tr><th>ticket_id</th><th>create_date</th><th>resolved_date</th><th>count_holiday_day</th></tr></thead><tbody><tr><td>1</td><td>2022-08-01</td><td>2022-08-03</td><td>0</td></tr><tr><td>2</td><td>2022-08-01</td><td>2022-08-12</td><td>1</td></tr><tr><td>3</td><td>2022-08-01</td><td>2022-08-16</td><td>2</td></tr></tbody></table></div>"
      ]
     },
     "metadata": {
      "application/vnd.databricks.v1+output": {
       "addedWidgets": {},
       "aggData": [],
       "aggError": "",
       "aggOverflow": false,
       "aggSchema": [],
       "aggSeriesLimitReached": false,
       "aggType": "",
       "arguments": {},
       "columnCustomDisplayInfos": {},
       "data": [
        [
         1,
         "2022-08-01",
         "2022-08-03",
         0
        ],
        [
         2,
         "2022-08-01",
         "2022-08-12",
         1
        ],
        [
         3,
         "2022-08-01",
         "2022-08-16",
         2
        ]
       ],
       "datasetInfos": [],
       "dbfsResultPath": null,
       "isJsonSchema": true,
       "metadata": {},
       "overflow": false,
       "plotOptions": {
        "customPlotOptions": {},
        "displayType": "table",
        "pivotAggregation": null,
        "pivotColumns": null,
        "xColumns": null,
        "yColumns": null
       },
       "removedWidgets": [],
       "schema": [
        {
         "metadata": "{}",
         "name": "ticket_id",
         "type": "\"integer\""
        },
        {
         "metadata": "{}",
         "name": "create_date",
         "type": "\"date\""
        },
        {
         "metadata": "{}",
         "name": "resolved_date",
         "type": "\"date\""
        },
        {
         "metadata": "{}",
         "name": "count_holiday_day",
         "type": "\"long\""
        }
       ],
       "type": "table"
      }
     },
     "output_type": "display_data"
    }
   ],
   "source": [
    "display(joined_data)"
   ]
  },
  {
   "cell_type": "code",
   "execution_count": 0,
   "metadata": {
    "application/vnd.databricks.v1+cell": {
     "cellMetadata": {
      "byteLimit": 2048000,
      "rowLimit": 10000
     },
     "inputWidgets": {},
     "nuid": "9dede283-3837-4d6e-bd95-ff05a037e2f7",
     "showTitle": false,
     "title": ""
    }
   },
   "outputs": [
    {
     "output_type": "stream",
     "name": "stdout",
     "output_type": "stream",
     "text": [
      "+---------+-----------+-------------+-----------+-----------------------+\n|ticket_id|create_date|resolved_date|actual_days|actual_ticket_close_day|\n+---------+-----------+-------------+-----------+-----------------------+\n|        1| 2022-08-01|   2022-08-03|          2|                      2|\n|        2| 2022-08-01|   2022-08-12|         11|                      8|\n|        3| 2022-08-01|   2022-08-16|         15|                      9|\n+---------+-----------+-------------+-----------+-----------------------+\n\n"
     ]
    }
   ],
   "source": [
    "joined_data.select(joined_data.ticket_id,\n",
    "                   joined_data.create_date,\n",
    "               joined_data.resolved_date,\n",
    "               datediff(joined_data.resolved_date,joined_data.create_date).alias(\"actual_days\"),\n",
    "               ((datediff(tickets.resolved_date,tickets.create_date) - 2*(floor((datediff(tickets.resolved_date,tickets.create_date)/7)))) - col(\"count_holiday_day\")).alias(\"actual_ticket_close_day\")).show()"
   ]
  },
  {
   "cell_type": "code",
   "execution_count": 0,
   "metadata": {
    "application/vnd.databricks.v1+cell": {
     "cellMetadata": {},
     "inputWidgets": {},
     "nuid": "de9ff7e7-98cf-4448-a572-59cea3991f32",
     "showTitle": false,
     "title": ""
    }
   },
   "outputs": [],
   "source": []
  }
 ],
 "metadata": {
  "application/vnd.databricks.v1+notebook": {
   "dashboards": [],
   "language": "python",
   "notebookMetadata": {
    "pythonIndentUnit": 4
   },
   "notebookName": "Day9 total working days between ticket creation and resolution dates",
   "widgets": {}
  }
 },
 "nbformat": 4,
 "nbformat_minor": 0
}
