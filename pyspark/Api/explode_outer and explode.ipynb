{
 "cells": [
  {
   "cell_type": "markdown",
   "metadata": {
    "application/vnd.databricks.v1+cell": {
     "cellMetadata": {},
     "inputWidgets": {},
     "nuid": "57f831e2-ee51-4ee6-8c92-1b3d8cbe6929",
     "showTitle": false,
     "title": ""
    }
   },
   "source": [
    "#explode\n",
    "𝐞𝐱𝐩𝐥𝐨𝐝𝐞() will return each and every individual value from an array.\n",
    "If the array is empty or null, it will ignore and go to the next array in an array type column in PySpark DataFrame\n",
    "\n",
    "whereas,\n",
    "If any value in an array is null, 𝐞𝐱𝐩𝐥𝐨𝐝𝐞() will ignore that null value. But 𝐞𝐱𝐩𝐥𝐨𝐝𝐞_𝐨𝐮𝐭𝐞𝐫() will consider and return a null value wherever a null value is present in the array."
   ]
  },
  {
   "cell_type": "code",
   "execution_count": 0,
   "metadata": {
    "application/vnd.databricks.v1+cell": {
     "cellMetadata": {
      "byteLimit": 2048000,
      "rowLimit": 10000
     },
     "inputWidgets": {},
     "nuid": "1f933dd6-f99c-4954-a3ae-b43a8a3e38d6",
     "showTitle": false,
     "title": ""
    }
   },
   "outputs": [],
   "source": [
    "from pyspark.sql.types import StructType,StructField,StringType,IntegerType,ArrayType,MapType,FloatType"
   ]
  },
  {
   "cell_type": "code",
   "execution_count": 0,
   "metadata": {
    "application/vnd.databricks.v1+cell": {
     "cellMetadata": {
      "byteLimit": 2048000,
      "rowLimit": 10000
     },
     "inputWidgets": {},
     "nuid": "2f3b085d-6703-43f6-9368-5d421cc9e61f",
     "showTitle": false,
     "title": ""
    }
   },
   "outputs": [],
   "source": [
    "from pyspark.sql.functions import explode_outer,explode"
   ]
  },
  {
   "cell_type": "code",
   "execution_count": 0,
   "metadata": {
    "application/vnd.databricks.v1+cell": {
     "cellMetadata": {
      "byteLimit": 2048000,
      "rowLimit": 10000
     },
     "inputWidgets": {},
     "nuid": "8bdf20dc-f349-4ee2-9bd0-28233334a80a",
     "showTitle": false,
     "title": ""
    }
   },
   "outputs": [],
   "source": [
    "data=[\n",
    "    (1,\"ravi\",[20,30,40],{\"x\": 1.0}),\n",
    "    (2,\"sam\",[50,60,70],{\"y\": 1.0}),\n",
    "    (3,\"mani\",[],{}),\n",
    "    (4,\"Mami\",[10,90,None],None)\n",
    "]"
   ]
  },
  {
   "cell_type": "code",
   "execution_count": 0,
   "metadata": {
    "application/vnd.databricks.v1+cell": {
     "cellMetadata": {
      "byteLimit": 2048000,
      "rowLimit": 10000
     },
     "inputWidgets": {},
     "nuid": "2240ae64-7c78-4098-994a-1d05d2813106",
     "showTitle": false,
     "title": ""
    }
   },
   "outputs": [],
   "source": [
    "schema=StructType(\n",
    "    [\n",
    "        StructField(\"ID\",IntegerType(),True),\n",
    "        StructField(\"Name\",StringType(),False),\n",
    "        StructField(\"Marks\",ArrayType(IntegerType()),True),\n",
    "        StructField(\"keymap\",MapType(StringType(),FloatType()),True)\n",
    "\n",
    "    ]\n",
    ")"
   ]
  },
  {
   "cell_type": "code",
   "execution_count": 0,
   "metadata": {
    "application/vnd.databricks.v1+cell": {
     "cellMetadata": {
      "byteLimit": 2048000,
      "rowLimit": 10000
     },
     "inputWidgets": {},
     "nuid": "23bc43b3-3124-41eb-990e-7755ed98c72d",
     "showTitle": false,
     "title": ""
    }
   },
   "outputs": [],
   "source": [
    "mydf=spark.createDataFrame(data,schema=schema)"
   ]
  },
  {
   "cell_type": "code",
   "execution_count": 0,
   "metadata": {
    "application/vnd.databricks.v1+cell": {
     "cellMetadata": {
      "byteLimit": 2048000,
      "rowLimit": 10000
     },
     "inputWidgets": {},
     "nuid": "5e7e4f6e-4f40-4764-bdaa-55794f2495c9",
     "showTitle": false,
     "title": ""
    }
   },
   "outputs": [
    {
     "output_type": "display_data",
     "data": {
      "text/html": [
       "<style scoped>\n",
       "  .table-result-container {\n",
       "    max-height: 300px;\n",
       "    overflow: auto;\n",
       "  }\n",
       "  table, th, td {\n",
       "    border: 1px solid black;\n",
       "    border-collapse: collapse;\n",
       "  }\n",
       "  th, td {\n",
       "    padding: 5px;\n",
       "  }\n",
       "  th {\n",
       "    text-align: left;\n",
       "  }\n",
       "</style><div class='table-result-container'><table class='table-result'><thead style='background-color: white'><tr><th>ID</th><th>Name</th><th>Marks</th><th>keymap</th></tr></thead><tbody><tr><td>1</td><td>ravi</td><td>List(20, 30, 40)</td><td>Map(x -> 1.0)</td></tr><tr><td>2</td><td>sam</td><td>List(50, 60, 70)</td><td>Map(y -> 1.0)</td></tr><tr><td>3</td><td>mani</td><td>List()</td><td>Map()</td></tr><tr><td>4</td><td>Mami</td><td>List(10, 90, null)</td><td>null</td></tr></tbody></table></div>"
      ]
     },
     "metadata": {
      "application/vnd.databricks.v1+output": {
       "addedWidgets": {},
       "aggData": [],
       "aggError": "",
       "aggOverflow": false,
       "aggSchema": [],
       "aggSeriesLimitReached": false,
       "aggType": "",
       "arguments": {},
       "columnCustomDisplayInfos": {},
       "data": [
        [
         1,
         "ravi",
         [
          20,
          30,
          40
         ],
         {
          "x": 1.0
         }
        ],
        [
         2,
         "sam",
         [
          50,
          60,
          70
         ],
         {
          "y": 1.0
         }
        ],
        [
         3,
         "mani",
         [],
         {}
        ],
        [
         4,
         "Mami",
         [
          10,
          90,
          null
         ],
         null
        ]
       ],
       "datasetInfos": [],
       "dbfsResultPath": null,
       "isJsonSchema": true,
       "metadata": {},
       "overflow": false,
       "plotOptions": {
        "customPlotOptions": {},
        "displayType": "table",
        "pivotAggregation": null,
        "pivotColumns": null,
        "xColumns": null,
        "yColumns": null
       },
       "removedWidgets": [],
       "schema": [
        {
         "metadata": "{}",
         "name": "ID",
         "type": "\"integer\""
        },
        {
         "metadata": "{}",
         "name": "Name",
         "type": "\"string\""
        },
        {
         "metadata": "{}",
         "name": "Marks",
         "type": "{\"type\":\"array\",\"elementType\":\"integer\",\"containsNull\":true}"
        },
        {
         "metadata": "{}",
         "name": "keymap",
         "type": "{\"type\":\"map\",\"keyType\":\"string\",\"valueType\":\"float\",\"valueContainsNull\":true}"
        }
       ],
       "type": "table"
      }
     },
     "output_type": "display_data"
    }
   ],
   "source": [
    "display(mydf)"
   ]
  },
  {
   "cell_type": "code",
   "execution_count": 0,
   "metadata": {
    "application/vnd.databricks.v1+cell": {
     "cellMetadata": {
      "byteLimit": 2048000,
      "rowLimit": 10000
     },
     "inputWidgets": {},
     "nuid": "80ecc233-65a1-4d51-96e6-8ff1d4447b82",
     "showTitle": false,
     "title": ""
    }
   },
   "outputs": [
    {
     "output_type": "stream",
     "name": "stdout",
     "output_type": "stream",
     "text": [
      "+---+----+--------------+----------+----+\n| id|name|         Marks|    keymap| col|\n+---+----+--------------+----------+----+\n|  1|ravi|  [20, 30, 40]|{x -> 1.0}|  20|\n|  1|ravi|  [20, 30, 40]|{x -> 1.0}|  30|\n|  1|ravi|  [20, 30, 40]|{x -> 1.0}|  40|\n|  2| sam|  [50, 60, 70]|{y -> 1.0}|  50|\n|  2| sam|  [50, 60, 70]|{y -> 1.0}|  60|\n|  2| sam|  [50, 60, 70]|{y -> 1.0}|  70|\n|  3|mani|            []|        {}|null|\n|  4|Mami|[10, 90, null]|      null|  10|\n|  4|Mami|[10, 90, null]|      null|  90|\n|  4|Mami|[10, 90, null]|      null|null|\n+---+----+--------------+----------+----+\n\n"
     ]
    }
   ],
   "source": [
    "mydf.select(\"id\",\"name\",\"Marks\",\"keymap\",explode_outer(\"Marks\")).show()"
   ]
  },
  {
   "cell_type": "code",
   "execution_count": 0,
   "metadata": {
    "application/vnd.databricks.v1+cell": {
     "cellMetadata": {
      "byteLimit": 2048000,
      "rowLimit": 10000
     },
     "inputWidgets": {},
     "nuid": "02f750a4-91fe-4d58-bf82-e3ef197f0226",
     "showTitle": false,
     "title": ""
    }
   },
   "outputs": [
    {
     "output_type": "stream",
     "name": "stdout",
     "output_type": "stream",
     "text": [
      "+---+----+--------------+----------+----+-----+\n| id|name|         Marks|    keymap| key|value|\n+---+----+--------------+----------+----+-----+\n|  1|ravi|  [20, 30, 40]|{x -> 1.0}|   x|  1.0|\n|  2| sam|  [50, 60, 70]|{y -> 1.0}|   y|  1.0|\n|  3|mani|            []|        {}|null| null|\n|  4|Mami|[10, 90, null]|      null|null| null|\n+---+----+--------------+----------+----+-----+\n\n"
     ]
    }
   ],
   "source": [
    "mydf.select(\"id\",\"name\",\"Marks\",\"keymap\",explode_outer(\"keymap\")).show()"
   ]
  },
  {
   "cell_type": "code",
   "execution_count": 0,
   "metadata": {
    "application/vnd.databricks.v1+cell": {
     "cellMetadata": {
      "byteLimit": 2048000,
      "rowLimit": 10000
     },
     "inputWidgets": {},
     "nuid": "60d49550-719b-41b5-a06d-d3d431cf3581",
     "showTitle": false,
     "title": ""
    }
   },
   "outputs": [
    {
     "output_type": "stream",
     "name": "stdout",
     "output_type": "stream",
     "text": [
      "+---+----+--------------+----+\n| id|name|         Marks| col|\n+---+----+--------------+----+\n|  1|ravi|  [20, 30, 40]|  20|\n|  1|ravi|  [20, 30, 40]|  30|\n|  1|ravi|  [20, 30, 40]|  40|\n|  2| sam|  [50, 60, 70]|  50|\n|  2| sam|  [50, 60, 70]|  60|\n|  2| sam|  [50, 60, 70]|  70|\n|  4|Mami|[10, 90, null]|  10|\n|  4|Mami|[10, 90, null]|  90|\n|  4|Mami|[10, 90, null]|null|\n+---+----+--------------+----+\n\n"
     ]
    }
   ],
   "source": [
    "mydf.select(\"id\",\"name\",\"Marks\",explode(\"Marks\")).show()"
   ]
  },
  {
   "cell_type": "code",
   "execution_count": 0,
   "metadata": {
    "application/vnd.databricks.v1+cell": {
     "cellMetadata": {
      "byteLimit": 2048000,
      "rowLimit": 10000
     },
     "inputWidgets": {},
     "nuid": "bf0f5edc-fa4a-439f-8e7b-a0dde8723606",
     "showTitle": false,
     "title": ""
    }
   },
   "outputs": [
    {
     "output_type": "stream",
     "name": "stdout",
     "output_type": "stream",
     "text": [
      "+---+----+------------+----------+---+-----+\n| id|name|       Marks|    keymap|key|value|\n+---+----+------------+----------+---+-----+\n|  1|ravi|[20, 30, 40]|{x -> 1.0}|  x|  1.0|\n|  2| sam|[50, 60, 70]|{y -> 1.0}|  y|  1.0|\n+---+----+------------+----------+---+-----+\n\n"
     ]
    }
   ],
   "source": [
    "mydf.select(\"id\",\"name\",\"Marks\",\"keymap\",explode(\"keymap\")).show()"
   ]
  },
  {
   "cell_type": "code",
   "execution_count": 0,
   "metadata": {
    "application/vnd.databricks.v1+cell": {
     "cellMetadata": {},
     "inputWidgets": {},
     "nuid": "1ec50bf8-a6ad-403f-bb2c-4bb92db651ed",
     "showTitle": false,
     "title": ""
    }
   },
   "outputs": [],
   "source": []
  }
 ],
 "metadata": {
  "application/vnd.databricks.v1+notebook": {
   "dashboards": [],
   "language": "python",
   "notebookMetadata": {
    "pythonIndentUnit": 4
   },
   "notebookName": "explode_outer and explode",
   "widgets": {}
  }
 },
 "nbformat": 4,
 "nbformat_minor": 0
}
