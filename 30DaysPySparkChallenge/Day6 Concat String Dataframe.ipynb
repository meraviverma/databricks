{
 "cells": [
  {
   "cell_type": "code",
   "execution_count": 0,
   "metadata": {
    "application/vnd.databricks.v1+cell": {
     "cellMetadata": {
      "byteLimit": 2048000,
      "rowLimit": 10000
     },
     "inputWidgets": {},
     "nuid": "c2c7cdee-a0c4-4f56-a694-e6fbf6bd3f9b",
     "showTitle": false,
     "title": ""
    }
   },
   "outputs": [],
   "source": [
    "mydf=spark.createDataFrame([(1,\"06-26-2011\",200,\"Exercise\",\"GymnasticsPro\",\"cash\"),\n",
    "                            (2,\"05-26-2011\",300,\"Exercise\",\"Weightlifting\",\"credit\"),\n",
    "                            (3,\"06-01-2011\",100,\"Exercise\",\"GymnasticsPro\",\"cash\"),\n",
    "                            (4,\"06-05-2011\",100,\"Gymnastics\",\"Rings\",\"credit\"),\n",
    "                            (5,\"12-17-2011\",300,\"Team Sports\",\"Field\",\"paytm\"),\n",
    "                            (6,\"02-14-2011\",200,\"Gymnastics\",\"Field\",\"cash\")],\n",
    "                            [\"id\",\"date\",\"amount\",\"sport_type\",\"sports_field\",\"payment_method\"])"
   ]
  },
  {
   "cell_type": "code",
   "execution_count": 0,
   "metadata": {
    "application/vnd.databricks.v1+cell": {
     "cellMetadata": {
      "byteLimit": 2048000,
      "rowLimit": 10000
     },
     "inputWidgets": {},
     "nuid": "ca04d300-1095-4349-b0e9-e3c8196f4b6b",
     "showTitle": false,
     "title": ""
    }
   },
   "outputs": [
    {
     "output_type": "stream",
     "name": "stdout",
     "output_type": "stream",
     "text": [
      "+---+----------+------+-----------+-------------+--------------+\n| id|      date|amount| sport_type| sports_field|payment_method|\n+---+----------+------+-----------+-------------+--------------+\n|  1|06-26-2011|   200|   Exercise|GymnasticsPro|          cash|\n|  2|05-26-2011|   300|   Exercise|Weightlifting|        credit|\n|  3|06-01-2011|   100|   Exercise|GymnasticsPro|          cash|\n|  4|06-05-2011|   100| Gymnastics|        Rings|        credit|\n|  5|12-17-2011|   300|Team Sports|        Field|         paytm|\n|  6|02-14-2011|   200| Gymnastics|        Field|          cash|\n+---+----------+------+-----------+-------------+--------------+\n\n"
     ]
    }
   ],
   "source": [
    "mydf.show()"
   ]
  },
  {
   "cell_type": "code",
   "execution_count": 0,
   "metadata": {
    "application/vnd.databricks.v1+cell": {
     "cellMetadata": {
      "byteLimit": 2048000,
      "rowLimit": 10000
     },
     "inputWidgets": {},
     "nuid": "d49f97ec-f26e-48f2-9b88-203bc84df8aa",
     "showTitle": false,
     "title": ""
    }
   },
   "outputs": [],
   "source": [
    "from pyspark.sql.functions import concat,lit"
   ]
  },
  {
   "cell_type": "code",
   "execution_count": 0,
   "metadata": {
    "application/vnd.databricks.v1+cell": {
     "cellMetadata": {
      "byteLimit": 2048000,
      "rowLimit": 10000
     },
     "inputWidgets": {},
     "nuid": "e479ae9d-d681-4016-87da-4355a1f041e2",
     "showTitle": false,
     "title": ""
    }
   },
   "outputs": [
    {
     "output_type": "stream",
     "name": "stdout",
     "output_type": "stream",
     "text": [
      "+---+----------+------+-----------+-------------+--------------+--------------------+\n| id|      date|amount| sport_type| sports_field|payment_method|              concat|\n+---+----------+------+-----------+-------------+--------------+--------------------+\n|  1|06-26-2011|   200|   Exercise|GymnasticsPro|          cash|  GymnasticsPro-cash|\n|  2|05-26-2011|   300|   Exercise|Weightlifting|        credit|Weightlifting-credit|\n|  3|06-01-2011|   100|   Exercise|GymnasticsPro|          cash|  GymnasticsPro-cash|\n|  4|06-05-2011|   100| Gymnastics|        Rings|        credit|        Rings-credit|\n|  5|12-17-2011|   300|Team Sports|        Field|         paytm|         Field-paytm|\n|  6|02-14-2011|   200| Gymnastics|        Field|          cash|          Field-cash|\n+---+----------+------+-----------+-------------+--------------+--------------------+\n\n"
     ]
    }
   ],
   "source": [
    "from pyspark.sql.functions import concat_ws,col\n",
    "mydf.withColumn(\"concat\",concat_ws('-',col(\"sports_field\"),col(\"payment_method\"))).show()"
   ]
  },
  {
   "cell_type": "code",
   "execution_count": 0,
   "metadata": {
    "application/vnd.databricks.v1+cell": {
     "cellMetadata": {
      "byteLimit": 2048000,
      "rowLimit": 10000
     },
     "inputWidgets": {},
     "nuid": "e789129c-f466-4c75-a91b-617eecea3765",
     "showTitle": false,
     "title": ""
    }
   },
   "outputs": [
    {
     "output_type": "display_data",
     "data": {
      "text/html": [
       "<style scoped>\n",
       "  .table-result-container {\n",
       "    max-height: 300px;\n",
       "    overflow: auto;\n",
       "  }\n",
       "  table, th, td {\n",
       "    border: 1px solid black;\n",
       "    border-collapse: collapse;\n",
       "  }\n",
       "  th, td {\n",
       "    padding: 5px;\n",
       "  }\n",
       "  th {\n",
       "    text-align: left;\n",
       "  }\n",
       "</style><div class='table-result-container'><table class='table-result'><thead style='background-color: white'><tr><th>id</th><th>date</th><th>amount</th><th>sport_type</th><th>sports_field</th><th>payment_method</th><th>concat</th></tr></thead><tbody><tr><td>1</td><td>06-26-2011</td><td>200</td><td>Exercise</td><td>GymnasticsPro</td><td>cash</td><td>GymnasticsPro-cash</td></tr><tr><td>2</td><td>05-26-2011</td><td>300</td><td>Exercise</td><td>Weightlifting</td><td>credit</td><td>Weightlifting-credit</td></tr><tr><td>3</td><td>06-01-2011</td><td>100</td><td>Exercise</td><td>GymnasticsPro</td><td>cash</td><td>GymnasticsPro-cash</td></tr><tr><td>4</td><td>06-05-2011</td><td>100</td><td>Gymnastics</td><td>Rings</td><td>credit</td><td>Rings-credit</td></tr><tr><td>5</td><td>12-17-2011</td><td>300</td><td>Team Sports</td><td>Field</td><td>paytm</td><td>Field-paytm</td></tr><tr><td>6</td><td>02-14-2011</td><td>200</td><td>Gymnastics</td><td>Field</td><td>cash</td><td>Field-cash</td></tr></tbody></table></div>"
      ]
     },
     "metadata": {
      "application/vnd.databricks.v1+output": {
       "addedWidgets": {},
       "aggData": [],
       "aggError": "",
       "aggOverflow": false,
       "aggSchema": [],
       "aggSeriesLimitReached": false,
       "aggType": "",
       "arguments": {},
       "columnCustomDisplayInfos": {},
       "data": [
        [
         1,
         "06-26-2011",
         200,
         "Exercise",
         "GymnasticsPro",
         "cash",
         "GymnasticsPro-cash"
        ],
        [
         2,
         "05-26-2011",
         300,
         "Exercise",
         "Weightlifting",
         "credit",
         "Weightlifting-credit"
        ],
        [
         3,
         "06-01-2011",
         100,
         "Exercise",
         "GymnasticsPro",
         "cash",
         "GymnasticsPro-cash"
        ],
        [
         4,
         "06-05-2011",
         100,
         "Gymnastics",
         "Rings",
         "credit",
         "Rings-credit"
        ],
        [
         5,
         "12-17-2011",
         300,
         "Team Sports",
         "Field",
         "paytm",
         "Field-paytm"
        ],
        [
         6,
         "02-14-2011",
         200,
         "Gymnastics",
         "Field",
         "cash",
         "Field-cash"
        ]
       ],
       "datasetInfos": [],
       "dbfsResultPath": null,
       "isJsonSchema": true,
       "metadata": {},
       "overflow": false,
       "plotOptions": {
        "customPlotOptions": {},
        "displayType": "table",
        "pivotAggregation": null,
        "pivotColumns": null,
        "xColumns": null,
        "yColumns": null
       },
       "removedWidgets": [],
       "schema": [
        {
         "metadata": "{}",
         "name": "id",
         "type": "\"long\""
        },
        {
         "metadata": "{}",
         "name": "date",
         "type": "\"string\""
        },
        {
         "metadata": "{}",
         "name": "amount",
         "type": "\"long\""
        },
        {
         "metadata": "{}",
         "name": "sport_type",
         "type": "\"string\""
        },
        {
         "metadata": "{}",
         "name": "sports_field",
         "type": "\"string\""
        },
        {
         "metadata": "{}",
         "name": "payment_method",
         "type": "\"string\""
        },
        {
         "metadata": "{}",
         "name": "concat",
         "type": "\"string\""
        }
       ],
       "type": "table"
      }
     },
     "output_type": "display_data"
    }
   ],
   "source": [
    "concat_df=mydf.withColumn(\"concat\",concat(col(\"sports_field\"),lit(\"-\"),col(\"payment_method\")))\n",
    "display(concat_df)"
   ]
  },
  {
   "cell_type": "code",
   "execution_count": 0,
   "metadata": {
    "application/vnd.databricks.v1+cell": {
     "cellMetadata": {
      "byteLimit": 2048000,
      "rowLimit": 10000
     },
     "inputWidgets": {},
     "nuid": "9fb9c3e8-166c-4020-a203-6110c9977ebc",
     "showTitle": false,
     "title": ""
    }
   },
   "outputs": [
    {
     "output_type": "stream",
     "name": "stdout",
     "output_type": "stream",
     "text": [
      "+---+----------+------+----------+-------------+--------------+--------------------+\n| id|      date|amount|sport_type| sports_field|payment_method|              concat|\n+---+----------+------+----------+-------------+--------------+--------------------+\n|  1|06-26-2011|   200|  Exercise|GymnasticsPro|          cash|  GymnasticsPro-cash|\n|  2|05-26-2011|   300|  Exercise|Weightlifting|        credit|Weightlifting-credit|\n|  3|06-01-2011|   100|  Exercise|GymnasticsPro|          cash|  GymnasticsPro-cash|\n+---+----------+------+----------+-------------+--------------+--------------------+\n\n"
     ]
    }
   ],
   "source": [
    "concat_df.filter(col(\"sport_type\") == \"Exercise\").show()"
   ]
  },
  {
   "cell_type": "code",
   "execution_count": 0,
   "metadata": {
    "application/vnd.databricks.v1+cell": {
     "cellMetadata": {},
     "inputWidgets": {},
     "nuid": "6527c27b-50c9-49d8-bab6-0a52172852dc",
     "showTitle": false,
     "title": ""
    }
   },
   "outputs": [],
   "source": []
  }
 ],
 "metadata": {
  "application/vnd.databricks.v1+notebook": {
   "dashboards": [],
   "language": "python",
   "notebookMetadata": {
    "pythonIndentUnit": 4
   },
   "notebookName": "Day6 Concat String Dataframe",
   "widgets": {}
  }
 },
 "nbformat": 4,
 "nbformat_minor": 0
}
