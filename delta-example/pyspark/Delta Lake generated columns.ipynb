{
 "cells": [
  {
   "cell_type": "code",
   "execution_count": 0,
   "metadata": {
    "application/vnd.databricks.v1+cell": {
     "cellMetadata": {
      "byteLimit": 2048000,
      "rowLimit": 10000
     },
     "inputWidgets": {},
     "nuid": "24c13664-2b44-43dc-8bcb-4047e2ac5d78",
     "showTitle": false,
     "title": ""
    }
   },
   "outputs": [
    {
     "output_type": "stream",
     "name": "stdout",
     "output_type": "stream",
     "text": [
      "Out[1]: <delta.tables.DeltaTable at 0x7f2368b58a90>"
     ]
    }
   ],
   "source": [
    "from delta import DeltaTable\n",
    "\n",
    "(\n",
    "    DeltaTable.create(spark)\n",
    "    .tableName(\"default.some_people\")\n",
    "    .addColumn(\"id\", \"LONG\")\n",
    "    .addColumn(\"first_name\", \"STRING\")\n",
    "    .addColumn(\"last_name\", \"STRING\")\n",
    "    .addColumn(\"age\", \"LONG\")\n",
    "    .addColumn(\n",
    "        \"full_name\", \"STRING\", generatedAlwaysAs=\"concat(first_name, ' ', last_name)\"\n",
    "    )\n",
    "    .execute()\n",
    ")\n"
   ]
  },
  {
   "cell_type": "code",
   "execution_count": 0,
   "metadata": {
    "application/vnd.databricks.v1+cell": {
     "cellMetadata": {
      "byteLimit": 2048000,
      "rowLimit": 10000
     },
     "inputWidgets": {},
     "nuid": "bdfd18f7-f0bb-460e-bd15-1cb90696003c",
     "showTitle": false,
     "title": ""
    }
   },
   "outputs": [
    {
     "output_type": "stream",
     "name": "stdout",
     "output_type": "stream",
     "text": [
      "+---+----------+---------+---+---------+\n| id|first_name|last_name|age|full_name|\n+---+----------+---------+---+---------+\n+---+----------+---------+---+---------+\n\n"
     ]
    }
   ],
   "source": [
    "spark.sql(\"select * from some_people\").show()"
   ]
  },
  {
   "cell_type": "code",
   "execution_count": 0,
   "metadata": {
    "application/vnd.databricks.v1+cell": {
     "cellMetadata": {
      "byteLimit": 2048000,
      "rowLimit": 10000
     },
     "inputWidgets": {},
     "nuid": "e3ca6c13-74ec-4d38-8232-b9dd32ae1f6d",
     "showTitle": false,
     "title": ""
    }
   },
   "outputs": [],
   "source": [
    "df = spark.createDataFrame(\n",
    "    [(0, \"Bob\", \"Loblaw\", 23),(1, \"Sue\", \"Grafton\", None), (2, \"Jim\", \"Carrey\", 61)]\n",
    ").toDF(\"id\", \"first_name\", \"last_name\", \"age\")\n",
    "\n",
    "df.write.mode(\"append\").format(\"delta\").saveAsTable(\"some_people\")\n"
   ]
  },
  {
   "cell_type": "code",
   "execution_count": 0,
   "metadata": {
    "application/vnd.databricks.v1+cell": {
     "cellMetadata": {
      "byteLimit": 2048000,
      "rowLimit": 10000
     },
     "inputWidgets": {},
     "nuid": "3e1bb7ea-3a97-4326-a4a1-51f92e73e6cb",
     "showTitle": false,
     "title": ""
    }
   },
   "outputs": [
    {
     "output_type": "stream",
     "name": "stdout",
     "output_type": "stream",
     "text": [
      "+---+----------+---------+----+-----------+\n| id|first_name|last_name| age|  full_name|\n+---+----------+---------+----+-----------+\n|  0|       Bob|   Loblaw|  23| Bob Loblaw|\n|  2|       Jim|   Carrey|  61| Jim Carrey|\n|  1|       Sue|  Grafton|null|Sue Grafton|\n+---+----------+---------+----+-----------+\n\n"
     ]
    }
   ],
   "source": [
    "DeltaTable.forName(spark, \"some_people\").toDF().show()"
   ]
  },
  {
   "cell_type": "markdown",
   "metadata": {
    "application/vnd.databricks.v1+cell": {
     "cellMetadata": {},
     "inputWidgets": {},
     "nuid": "eeeda89b-2aca-4bbe-b5b2-75f9f4405056",
     "showTitle": false,
     "title": ""
    }
   },
   "source": [
    "#What happens when generated columns depend on columns will null values?"
   ]
  },
  {
   "cell_type": "code",
   "execution_count": 0,
   "metadata": {
    "application/vnd.databricks.v1+cell": {
     "cellMetadata": {
      "byteLimit": 2048000,
      "rowLimit": 10000
     },
     "inputWidgets": {},
     "nuid": "e203de74-c701-4d8a-a83d-7cc7ba96e0ec",
     "showTitle": false,
     "title": ""
    }
   },
   "outputs": [],
   "source": [
    "df = spark.createDataFrame(\n",
    "    [\n",
    "        (44, None, \"Perkins\", 20),\n",
    "        (55, \"Li\", None, 30),\n",
    "    ]\n",
    ").toDF(\"id\", \"first_name\", \"last_name\", \"age\")\n",
    "\n",
    "df.write.mode(\"append\").format(\"delta\").saveAsTable(\n",
    "    \"some_people\"\n",
    ")\n"
   ]
  },
  {
   "cell_type": "code",
   "execution_count": 0,
   "metadata": {
    "application/vnd.databricks.v1+cell": {
     "cellMetadata": {
      "byteLimit": 2048000,
      "rowLimit": 10000
     },
     "inputWidgets": {},
     "nuid": "a9b5a0c2-214f-4f9a-aa4d-780b480f651f",
     "showTitle": false,
     "title": ""
    }
   },
   "outputs": [
    {
     "output_type": "stream",
     "name": "stdout",
     "output_type": "stream",
     "text": [
      "+---+----------+---------+----+-----------+\n| id|first_name|last_name| age|  full_name|\n+---+----------+---------+----+-----------+\n|  0|       Bob|   Loblaw|  23| Bob Loblaw|\n|  2|       Jim|   Carrey|  61| Jim Carrey|\n|  1|       Sue|  Grafton|null|Sue Grafton|\n| 44|      null|  Perkins|  20|       null|\n| 55|        Li|     null|  30|       null|\n+---+----------+---------+----+-----------+\n\n"
     ]
    }
   ],
   "source": [
    "DeltaTable.forName(spark, \"some_people\").toDF().show()"
   ]
  },
  {
   "cell_type": "markdown",
   "metadata": {
    "application/vnd.databricks.v1+cell": {
     "cellMetadata": {},
     "inputWidgets": {},
     "nuid": "02a6473f-4ca7-462e-a460-87751930bf23",
     "showTitle": false,
     "title": ""
    }
   },
   "source": [
    "The column isn’t computed on the fly when the data is read. The data is computed and persisted when DataFrames are appended to storage."
   ]
  },
  {
   "cell_type": "code",
   "execution_count": 0,
   "metadata": {
    "application/vnd.databricks.v1+cell": {
     "cellMetadata": {
      "byteLimit": 2048000,
      "implicitDf": true,
      "rowLimit": 10000
     },
     "inputWidgets": {},
     "nuid": "2b4bf883-5593-419c-b696-9e3050841f2e",
     "showTitle": false,
     "title": ""
    }
   },
   "outputs": [
    {
     "output_type": "display_data",
     "data": {
      "text/html": [
       "<style scoped>\n",
       "  .table-result-container {\n",
       "    max-height: 300px;\n",
       "    overflow: auto;\n",
       "  }\n",
       "  table, th, td {\n",
       "    border: 1px solid black;\n",
       "    border-collapse: collapse;\n",
       "  }\n",
       "  th, td {\n",
       "    padding: 5px;\n",
       "  }\n",
       "  th {\n",
       "    text-align: left;\n",
       "  }\n",
       "</style><div class='table-result-container'><table class='table-result'><thead style='background-color: white'><tr></tr></thead><tbody></tbody></table></div>"
      ]
     },
     "metadata": {
      "application/vnd.databricks.v1+output": {
       "addedWidgets": {},
       "aggData": [],
       "aggError": "",
       "aggOverflow": false,
       "aggSchema": [],
       "aggSeriesLimitReached": false,
       "aggType": "",
       "arguments": {},
       "columnCustomDisplayInfos": {},
       "data": [],
       "datasetInfos": [],
       "dbfsResultPath": null,
       "isJsonSchema": true,
       "metadata": {},
       "overflow": false,
       "plotOptions": {
        "customPlotOptions": {},
        "displayType": "table",
        "pivotAggregation": null,
        "pivotColumns": null,
        "xColumns": null,
        "yColumns": null
       },
       "removedWidgets": [],
       "schema": [],
       "type": "table"
      }
     },
     "output_type": "display_data"
    }
   ],
   "source": [
    "%sql\n",
    "CREATE TABLE default.people10m (\n",
    "  id INT,\n",
    "  firstName STRING,\n",
    "  middleName STRING,\n",
    "  lastName STRING,\n",
    "  gender STRING,\n",
    "  birthDate TIMESTAMP,\n",
    "  dateOfBirth DATE GENERATED ALWAYS AS (CAST(birthDate AS DATE)),\n",
    "  ssn STRING,\n",
    "  salary INT\n",
    ")"
   ]
  },
  {
   "cell_type": "code",
   "execution_count": 0,
   "metadata": {
    "application/vnd.databricks.v1+cell": {
     "cellMetadata": {
      "byteLimit": 2048000,
      "implicitDf": true,
      "rowLimit": 10000
     },
     "inputWidgets": {},
     "nuid": "645cc603-f7ed-4424-85ca-d60d3035fcf9",
     "showTitle": false,
     "title": ""
    }
   },
   "outputs": [
    {
     "output_type": "stream",
     "name": "stdout",
     "output_type": "stream",
     "text": [
      "+---+---------+----------+--------+------+---------+-----------+---+------+\n| id|firstName|middleName|lastName|gender|birthDate|dateOfBirth|ssn|salary|\n+---+---------+----------+--------+------+---------+-----------+---+------+\n+---+---------+----------+--------+------+---------+-----------+---+------+\n\n"
     ]
    }
   ],
   "source": [
    "spark.sql(\"select * from people10m\").show()"
   ]
  },
  {
   "cell_type": "code",
   "execution_count": 0,
   "metadata": {
    "application/vnd.databricks.v1+cell": {
     "cellMetadata": {
      "byteLimit": 2048000,
      "rowLimit": 10000
     },
     "inputWidgets": {},
     "nuid": "5cf2419c-5586-4c90-8341-680e5601e5d4",
     "showTitle": false,
     "title": ""
    }
   },
   "outputs": [
    {
     "output_type": "stream",
     "name": "stdout",
     "output_type": "stream",
     "text": [
      "Out[11]: <delta.tables.DeltaTable at 0x7f2358bcc8b0>"
     ]
    }
   ],
   "source": [
    "from pyspark.sql.types import DateType\n",
    "DeltaTable.create(spark) \\\n",
    "  .tableName(\"default.people10mpython\") \\\n",
    "  .addColumn(\"id\", \"INT\") \\\n",
    "  .addColumn(\"firstName\", \"STRING\") \\\n",
    "  .addColumn(\"middleName\", \"STRING\") \\\n",
    "  .addColumn(\"lastName\", \"STRING\", comment = \"surname\") \\\n",
    "  .addColumn(\"gender\", \"STRING\") \\\n",
    "  .addColumn(\"birthDate\", \"TIMESTAMP\") \\\n",
    "  .addColumn(\"dateOfBirth\", DateType(), generatedAlwaysAs=\"CAST(birthDate AS DATE)\") \\\n",
    "  .addColumn(\"ssn\", \"STRING\") \\\n",
    "  .addColumn(\"salary\", \"INT\") \\\n",
    "  .execute()"
   ]
  },
  {
   "cell_type": "code",
   "execution_count": 0,
   "metadata": {
    "application/vnd.databricks.v1+cell": {
     "cellMetadata": {
      "byteLimit": 2048000,
      "rowLimit": 10000
     },
     "inputWidgets": {},
     "nuid": "e4ebcb86-8733-48a0-962c-9390b1b9c3ec",
     "showTitle": false,
     "title": ""
    }
   },
   "outputs": [
    {
     "output_type": "stream",
     "name": "stdout",
     "output_type": "stream",
     "text": [
      "+---+---------+----------+--------+------+---------+-----------+---+------+\n| id|firstName|middleName|lastName|gender|birthDate|dateOfBirth|ssn|salary|\n+---+---------+----------+--------+------+---------+-----------+---+------+\n+---+---------+----------+--------+------+---------+-----------+---+------+\n\n"
     ]
    }
   ],
   "source": [
    "spark.sql(\"select * from people10mpython\").show()"
   ]
  },
  {
   "cell_type": "code",
   "execution_count": 0,
   "metadata": {
    "application/vnd.databricks.v1+cell": {
     "cellMetadata": {
      "byteLimit": 2048000,
      "implicitDf": true,
      "rowLimit": 10000
     },
     "inputWidgets": {},
     "nuid": "7d7e8748-b08b-478e-a46f-47153352f66b",
     "showTitle": false,
     "title": ""
    }
   },
   "outputs": [
    {
     "output_type": "display_data",
     "data": {
      "text/html": [
       "<style scoped>\n",
       "  .table-result-container {\n",
       "    max-height: 300px;\n",
       "    overflow: auto;\n",
       "  }\n",
       "  table, th, td {\n",
       "    border: 1px solid black;\n",
       "    border-collapse: collapse;\n",
       "  }\n",
       "  th, td {\n",
       "    padding: 5px;\n",
       "  }\n",
       "  th {\n",
       "    text-align: left;\n",
       "  }\n",
       "</style><div class='table-result-container'><table class='table-result'><thead style='background-color: white'><tr><th>plan</th></tr></thead><tbody><tr><td>== Physical Plan ==\n",
       "AdaptiveSparkPlan isFinalPlan=false\n",
       "+- HashAggregate(keys=[k#2498], functions=[finalmerge_sum(merge sum#2503L) AS sum(v#2499)#2500L])\n",
       "   +- Exchange hashpartitioning(k#2498, 200), ENSURE_REQUIREMENTS, [plan_id=1048]\n",
       "      +- HashAggregate(keys=[k#2498], functions=[partial_sum(v#2499) AS sum#2503L])\n",
       "         +- LocalTableScan [k#2498, v#2499]\n",
       "\n",
       "</td></tr></tbody></table></div>"
      ]
     },
     "metadata": {
      "application/vnd.databricks.v1+output": {
       "addedWidgets": {},
       "aggData": [],
       "aggError": "",
       "aggOverflow": false,
       "aggSchema": [],
       "aggSeriesLimitReached": false,
       "aggType": "",
       "arguments": {},
       "columnCustomDisplayInfos": {},
       "data": [
        [
         "== Physical Plan ==\nAdaptiveSparkPlan isFinalPlan=false\n+- HashAggregate(keys=[k#2498], functions=[finalmerge_sum(merge sum#2503L) AS sum(v#2499)#2500L])\n   +- Exchange hashpartitioning(k#2498, 200), ENSURE_REQUIREMENTS, [plan_id=1048]\n      +- HashAggregate(keys=[k#2498], functions=[partial_sum(v#2499) AS sum#2503L])\n         +- LocalTableScan [k#2498, v#2499]\n\n"
        ]
       ],
       "datasetInfos": [],
       "dbfsResultPath": null,
       "isJsonSchema": true,
       "metadata": {},
       "overflow": false,
       "plotOptions": {
        "customPlotOptions": {},
        "displayType": "table",
        "pivotAggregation": null,
        "pivotColumns": null,
        "xColumns": null,
        "yColumns": null
       },
       "removedWidgets": [],
       "schema": [
        {
         "metadata": "{}",
         "name": "plan",
         "type": "\"string\""
        }
       ],
       "type": "table"
      }
     },
     "output_type": "display_data"
    }
   ],
   "source": [
    "%sql\n",
    "EXPLAIN select k, sum(v) from values (1, 2), (1, 3) t(k, v) group by k;"
   ]
  },
  {
   "cell_type": "code",
   "execution_count": 0,
   "metadata": {
    "application/vnd.databricks.v1+cell": {
     "cellMetadata": {
      "byteLimit": 2048000,
      "implicitDf": true,
      "rowLimit": 10000
     },
     "inputWidgets": {},
     "nuid": "d1706518-e3d7-4026-955f-cbf23d9f0719",
     "showTitle": false,
     "title": ""
    }
   },
   "outputs": [
    {
     "output_type": "display_data",
     "data": {
      "text/html": [
       "<style scoped>\n",
       "  .table-result-container {\n",
       "    max-height: 300px;\n",
       "    overflow: auto;\n",
       "  }\n",
       "  table, th, td {\n",
       "    border: 1px solid black;\n",
       "    border-collapse: collapse;\n",
       "  }\n",
       "  th, td {\n",
       "    padding: 5px;\n",
       "  }\n",
       "  th {\n",
       "    text-align: left;\n",
       "  }\n",
       "</style><div class='table-result-container'><table class='table-result'><thead style='background-color: white'><tr><th>plan</th></tr></thead><tbody><tr><td>== Parsed Logical Plan ==\n",
       "'Aggregate ['k], ['k, unresolvedalias('sum('v), None)]\n",
       "+- 'SubqueryAlias t\n",
       "   +- 'UnresolvedInlineTable [k, v], [[1, 2], [1, 3]]\n",
       "\n",
       "== Analyzed Logical Plan ==\n",
       "k: int, sum(v): bigint\n",
       "Aggregate [k#2515], [k#2515, sum(v#2516) AS sum(v)#2518L]\n",
       "+- SubqueryAlias t\n",
       "   +- LocalRelation [k#2515, v#2516]\n",
       "\n",
       "== Optimized Logical Plan ==\n",
       "Aggregate [k#2515], [k#2515, sum(v#2516) AS sum(v)#2518L]\n",
       "+- LocalRelation [k#2515, v#2516]\n",
       "\n",
       "== Physical Plan ==\n",
       "AdaptiveSparkPlan isFinalPlan=false\n",
       "+- HashAggregate(keys=[k#2515], functions=[finalmerge_sum(merge sum#2520L) AS sum(v#2516)#2517L], output=[k#2515, sum(v)#2518L])\n",
       "   +- Exchange hashpartitioning(k#2515, 200), ENSURE_REQUIREMENTS, [plan_id=1079]\n",
       "      +- HashAggregate(keys=[k#2515], functions=[partial_sum(v#2516) AS sum#2520L], output=[k#2515, sum#2520L])\n",
       "         +- LocalTableScan [k#2515, v#2516]\n",
       "</td></tr></tbody></table></div>"
      ]
     },
     "metadata": {
      "application/vnd.databricks.v1+output": {
       "addedWidgets": {},
       "aggData": [],
       "aggError": "",
       "aggOverflow": false,
       "aggSchema": [],
       "aggSeriesLimitReached": false,
       "aggType": "",
       "arguments": {},
       "columnCustomDisplayInfos": {},
       "data": [
        [
         "== Parsed Logical Plan ==\n'Aggregate ['k], ['k, unresolvedalias('sum('v), None)]\n+- 'SubqueryAlias t\n   +- 'UnresolvedInlineTable [k, v], [[1, 2], [1, 3]]\n\n== Analyzed Logical Plan ==\nk: int, sum(v): bigint\nAggregate [k#2515], [k#2515, sum(v#2516) AS sum(v)#2518L]\n+- SubqueryAlias t\n   +- LocalRelation [k#2515, v#2516]\n\n== Optimized Logical Plan ==\nAggregate [k#2515], [k#2515, sum(v#2516) AS sum(v)#2518L]\n+- LocalRelation [k#2515, v#2516]\n\n== Physical Plan ==\nAdaptiveSparkPlan isFinalPlan=false\n+- HashAggregate(keys=[k#2515], functions=[finalmerge_sum(merge sum#2520L) AS sum(v#2516)#2517L], output=[k#2515, sum(v)#2518L])\n   +- Exchange hashpartitioning(k#2515, 200), ENSURE_REQUIREMENTS, [plan_id=1079]\n      +- HashAggregate(keys=[k#2515], functions=[partial_sum(v#2516) AS sum#2520L], output=[k#2515, sum#2520L])\n         +- LocalTableScan [k#2515, v#2516]\n"
        ]
       ],
       "datasetInfos": [],
       "dbfsResultPath": null,
       "isJsonSchema": true,
       "metadata": {},
       "overflow": false,
       "plotOptions": {
        "customPlotOptions": {},
        "displayType": "table",
        "pivotAggregation": null,
        "pivotColumns": null,
        "xColumns": null,
        "yColumns": null
       },
       "removedWidgets": [],
       "schema": [
        {
         "metadata": "{}",
         "name": "plan",
         "type": "\"string\""
        }
       ],
       "type": "table"
      }
     },
     "output_type": "display_data"
    }
   ],
   "source": [
    "%sql\n",
    "EXPLAIN EXTENDED select k, sum(v) from values (1, 2), (1, 3) t(k, v) group by k;"
   ]
  },
  {
   "cell_type": "code",
   "execution_count": 0,
   "metadata": {
    "application/vnd.databricks.v1+cell": {
     "cellMetadata": {
      "byteLimit": 2048000,
      "implicitDf": true,
      "rowLimit": 10000
     },
     "inputWidgets": {},
     "nuid": "a1c685a8-87f0-421d-b5c2-2a24fbe6c9fe",
     "showTitle": false,
     "title": ""
    }
   },
   "outputs": [
    {
     "output_type": "display_data",
     "data": {
      "text/html": [
       "<style scoped>\n",
       "  .table-result-container {\n",
       "    max-height: 300px;\n",
       "    overflow: auto;\n",
       "  }\n",
       "  table, th, td {\n",
       "    border: 1px solid black;\n",
       "    border-collapse: collapse;\n",
       "  }\n",
       "  th, td {\n",
       "    padding: 5px;\n",
       "  }\n",
       "  th {\n",
       "    text-align: left;\n",
       "  }\n",
       "</style><div class='table-result-container'><table class='table-result'><thead style='background-color: white'><tr><th>plan</th></tr></thead><tbody><tr><td>== Physical Plan ==\n",
       "AdaptiveSparkPlan (5)\n",
       "+- HashAggregate (4)\n",
       "   +- Exchange (3)\n",
       "      +- HashAggregate (2)\n",
       "         +- LocalTableScan (1)\n",
       "\n",
       "\n",
       "(1) LocalTableScan\n",
       "Output [2]: [k#2532, v#2533]\n",
       "Arguments: [k#2532, v#2533]\n",
       "\n",
       "(2) HashAggregate\n",
       "Input [2]: [k#2532, v#2533]\n",
       "Keys [1]: [k#2532]\n",
       "Functions [1]: [partial_sum(v#2533) AS sum#2537L]\n",
       "Aggregate Attributes [1]: [sum#2536L]\n",
       "Results [2]: [k#2532, sum#2537L]\n",
       "\n",
       "(3) Exchange\n",
       "Input [2]: [k#2532, sum#2537L]\n",
       "Arguments: hashpartitioning(k#2532, 200), ENSURE_REQUIREMENTS, [plan_id=1110]\n",
       "\n",
       "(4) HashAggregate\n",
       "Input [2]: [k#2532, sum#2537L]\n",
       "Keys [1]: [k#2532]\n",
       "Functions [1]: [finalmerge_sum(merge sum#2537L) AS sum(v#2533)#2534L]\n",
       "Aggregate Attributes [1]: [sum(v#2533)#2534L]\n",
       "Results [2]: [k#2532, sum(v#2533)#2534L AS sum(v)#2535L]\n",
       "\n",
       "(5) AdaptiveSparkPlan\n",
       "Output [2]: [k#2532, sum(v)#2535L]\n",
       "Arguments: isFinalPlan=false\n",
       "\n",
       "</td></tr></tbody></table></div>"
      ]
     },
     "metadata": {
      "application/vnd.databricks.v1+output": {
       "addedWidgets": {},
       "aggData": [],
       "aggError": "",
       "aggOverflow": false,
       "aggSchema": [],
       "aggSeriesLimitReached": false,
       "aggType": "",
       "arguments": {},
       "columnCustomDisplayInfos": {},
       "data": [
        [
         "== Physical Plan ==\nAdaptiveSparkPlan (5)\n+- HashAggregate (4)\n   +- Exchange (3)\n      +- HashAggregate (2)\n         +- LocalTableScan (1)\n\n\n(1) LocalTableScan\nOutput [2]: [k#2532, v#2533]\nArguments: [k#2532, v#2533]\n\n(2) HashAggregate\nInput [2]: [k#2532, v#2533]\nKeys [1]: [k#2532]\nFunctions [1]: [partial_sum(v#2533) AS sum#2537L]\nAggregate Attributes [1]: [sum#2536L]\nResults [2]: [k#2532, sum#2537L]\n\n(3) Exchange\nInput [2]: [k#2532, sum#2537L]\nArguments: hashpartitioning(k#2532, 200), ENSURE_REQUIREMENTS, [plan_id=1110]\n\n(4) HashAggregate\nInput [2]: [k#2532, sum#2537L]\nKeys [1]: [k#2532]\nFunctions [1]: [finalmerge_sum(merge sum#2537L) AS sum(v#2533)#2534L]\nAggregate Attributes [1]: [sum(v#2533)#2534L]\nResults [2]: [k#2532, sum(v#2533)#2534L AS sum(v)#2535L]\n\n(5) AdaptiveSparkPlan\nOutput [2]: [k#2532, sum(v)#2535L]\nArguments: isFinalPlan=false\n\n"
        ]
       ],
       "datasetInfos": [],
       "dbfsResultPath": null,
       "isJsonSchema": true,
       "metadata": {},
       "overflow": false,
       "plotOptions": {
        "customPlotOptions": {},
        "displayType": "table",
        "pivotAggregation": null,
        "pivotColumns": null,
        "xColumns": null,
        "yColumns": null
       },
       "removedWidgets": [],
       "schema": [
        {
         "metadata": "{}",
         "name": "plan",
         "type": "\"string\""
        }
       ],
       "type": "table"
      }
     },
     "output_type": "display_data"
    }
   ],
   "source": [
    "%sql\n",
    "EXPLAIN FORMATTED select k, sum(v) from values (1, 2), (1, 3) t(k, v) group by k;"
   ]
  },
  {
   "cell_type": "code",
   "execution_count": 0,
   "metadata": {
    "application/vnd.databricks.v1+cell": {
     "cellMetadata": {
      "byteLimit": 2048000,
      "implicitDf": true,
      "rowLimit": 10000
     },
     "inputWidgets": {},
     "nuid": "143a657f-bd37-4412-b8c4-d3affbc8e218",
     "showTitle": false,
     "title": ""
    }
   },
   "outputs": [
    {
     "output_type": "display_data",
     "data": {
      "text/html": [
       "<style scoped>\n",
       "  .table-result-container {\n",
       "    max-height: 300px;\n",
       "    overflow: auto;\n",
       "  }\n",
       "  table, th, td {\n",
       "    border: 1px solid black;\n",
       "    border-collapse: collapse;\n",
       "  }\n",
       "  th, td {\n",
       "    padding: 5px;\n",
       "  }\n",
       "  th {\n",
       "    text-align: left;\n",
       "  }\n",
       "</style><div class='table-result-container'><table class='table-result'><thead style='background-color: white'><tr><th>plan</th></tr></thead><tbody><tr><td>== Optimized Logical Plan ==\n",
       "Aggregate [k#2549], [k#2549, sum(v#2550) AS sum(v)#2552L], Statistics(sizeInBytes=40.0 B)\n",
       "+- LocalRelation [k#2549, v#2550], Statistics(sizeInBytes=32.0 B)\n",
       "\n",
       "== Physical Plan ==\n",
       "AdaptiveSparkPlan isFinalPlan=false\n",
       "+- HashAggregate(keys=[k#2549], functions=[finalmerge_sum(merge sum#2554L) AS sum(v#2550)#2551L], output=[k#2549, sum(v)#2552L])\n",
       "   +- Exchange hashpartitioning(k#2549, 200), ENSURE_REQUIREMENTS, [plan_id=1141]\n",
       "      +- HashAggregate(keys=[k#2549], functions=[partial_sum(v#2550) AS sum#2554L], output=[k#2549, sum#2554L])\n",
       "         +- LocalTableScan [k#2549, v#2550]\n",
       "\n",
       "</td></tr></tbody></table></div>"
      ]
     },
     "metadata": {
      "application/vnd.databricks.v1+output": {
       "addedWidgets": {},
       "aggData": [],
       "aggError": "",
       "aggOverflow": false,
       "aggSchema": [],
       "aggSeriesLimitReached": false,
       "aggType": "",
       "arguments": {},
       "columnCustomDisplayInfos": {},
       "data": [
        [
         "== Optimized Logical Plan ==\nAggregate [k#2549], [k#2549, sum(v#2550) AS sum(v)#2552L], Statistics(sizeInBytes=40.0 B)\n+- LocalRelation [k#2549, v#2550], Statistics(sizeInBytes=32.0 B)\n\n== Physical Plan ==\nAdaptiveSparkPlan isFinalPlan=false\n+- HashAggregate(keys=[k#2549], functions=[finalmerge_sum(merge sum#2554L) AS sum(v#2550)#2551L], output=[k#2549, sum(v)#2552L])\n   +- Exchange hashpartitioning(k#2549, 200), ENSURE_REQUIREMENTS, [plan_id=1141]\n      +- HashAggregate(keys=[k#2549], functions=[partial_sum(v#2550) AS sum#2554L], output=[k#2549, sum#2554L])\n         +- LocalTableScan [k#2549, v#2550]\n\n"
        ]
       ],
       "datasetInfos": [],
       "dbfsResultPath": null,
       "isJsonSchema": true,
       "metadata": {},
       "overflow": false,
       "plotOptions": {
        "customPlotOptions": {},
        "displayType": "table",
        "pivotAggregation": null,
        "pivotColumns": null,
        "xColumns": null,
        "yColumns": null
       },
       "removedWidgets": [],
       "schema": [
        {
         "metadata": "{}",
         "name": "plan",
         "type": "\"string\""
        }
       ],
       "type": "table"
      }
     },
     "output_type": "display_data"
    }
   ],
   "source": [
    "%sql\n",
    "EXPLAIN COST select k, sum(v) from values (1, 2), (1, 3) t(k, v) group by k;"
   ]
  },
  {
   "cell_type": "code",
   "execution_count": 0,
   "metadata": {
    "application/vnd.databricks.v1+cell": {
     "cellMetadata": {
      "byteLimit": 2048000,
      "implicitDf": true,
      "rowLimit": 10000
     },
     "inputWidgets": {},
     "nuid": "6ebc7e77-2a13-46a3-9685-98d083ef0fca",
     "showTitle": false,
     "title": ""
    }
   },
   "outputs": [
    {
     "output_type": "display_data",
     "data": {
      "text/html": [
       "<style scoped>\n",
       "  .table-result-container {\n",
       "    max-height: 300px;\n",
       "    overflow: auto;\n",
       "  }\n",
       "  table, th, td {\n",
       "    border: 1px solid black;\n",
       "    border-collapse: collapse;\n",
       "  }\n",
       "  th, td {\n",
       "    padding: 5px;\n",
       "  }\n",
       "  th {\n",
       "    text-align: left;\n",
       "  }\n",
       "</style><div class='table-result-container'><table class='table-result'><thead style='background-color: white'><tr><th>plan</th></tr></thead><tbody><tr><td>Found 0 WholeStageCodegen subtrees.\n",
       "</td></tr></tbody></table></div>"
      ]
     },
     "metadata": {
      "application/vnd.databricks.v1+output": {
       "addedWidgets": {},
       "aggData": [],
       "aggError": "",
       "aggOverflow": false,
       "aggSchema": [],
       "aggSeriesLimitReached": false,
       "aggType": "",
       "arguments": {},
       "columnCustomDisplayInfos": {},
       "data": [
        [
         "Found 0 WholeStageCodegen subtrees.\n"
        ]
       ],
       "datasetInfos": [],
       "dbfsResultPath": null,
       "isJsonSchema": true,
       "metadata": {},
       "overflow": false,
       "plotOptions": {
        "customPlotOptions": {},
        "displayType": "table",
        "pivotAggregation": null,
        "pivotColumns": null,
        "xColumns": null,
        "yColumns": null
       },
       "removedWidgets": [],
       "schema": [
        {
         "metadata": "{}",
         "name": "plan",
         "type": "\"string\""
        }
       ],
       "type": "table"
      }
     },
     "output_type": "display_data"
    }
   ],
   "source": [
    "%sql\n",
    "EXPLAIN CODEGEN select k, sum(v) from values (1, 2), (1, 3) t(k, v) group by k;"
   ]
  },
  {
   "cell_type": "code",
   "execution_count": 0,
   "metadata": {
    "application/vnd.databricks.v1+cell": {
     "cellMetadata": {},
     "inputWidgets": {},
     "nuid": "25c313fc-0757-4eef-9e77-26f0e8cd8c7c",
     "showTitle": false,
     "title": ""
    }
   },
   "outputs": [],
   "source": []
  }
 ],
 "metadata": {
  "application/vnd.databricks.v1+notebook": {
   "dashboards": [],
   "language": "python",
   "notebookMetadata": {
    "mostRecentlyExecutedCommandWithImplicitDF": {
     "commandId": 3833963701441812,
     "dataframes": [
      "_sqldf"
     ]
    },
    "pythonIndentUnit": 4
   },
   "notebookName": "Delta Lake generated columns",
   "widgets": {}
  }
 },
 "nbformat": 4,
 "nbformat_minor": 0
}
