{
 "cells": [
  {
   "cell_type": "code",
   "execution_count": 0,
   "metadata": {
    "application/vnd.databricks.v1+cell": {
     "cellMetadata": {
      "byteLimit": 2048000,
      "rowLimit": 10000
     },
     "inputWidgets": {},
     "nuid": "32a3e0c9-e434-4783-a825-c926b834a277",
     "showTitle": false,
     "title": ""
    }
   },
   "outputs": [],
   "source": [
    "# Given below candidates data:\n",
    "# | emp_id | experience | salary |\n",
    "# | 1 | Junior | 10000 |\n",
    "# | 2 | Junior | 15000 |\n",
    "# | 3 | Junior | 40000 |\n",
    "# | 4 | Senior | 16000 |\n",
    "# | 5 | Senior | 20000 |\n",
    "# | 6 | Senior | 50000 |\n",
    "\n",
    "# ❓Hire the candidates who fall under budget of 70000 according to below criteria:\n",
    "# 📌 First hire Senior within budget\n",
    "# 📌 Then hire Junior withing remaining budget.\n",
    "\n",
    "#they have to first fill up the senior position then fill up the junior position\n",
    "# we will start from senior having least salary as we want to hire maximum person. \n",
    "#https://www.youtube.com/watch?v=C9DGxJKBbb4"
   ]
  },
  {
   "cell_type": "markdown",
   "metadata": {
    "application/vnd.databricks.v1+cell": {
     "cellMetadata": {},
     "inputWidgets": {},
     "nuid": "b4e296b9-47da-4984-a690-128a2d321482",
     "showTitle": false,
     "title": ""
    }
   },
   "source": [
    "❓Hire the candidates who fall under budget of 70000 according to below criteria:\n",
    "📌 First hire Senior within budget\n",
    "📌 Then hire Junior withing remaining budget"
   ]
  },
  {
   "cell_type": "code",
   "execution_count": 0,
   "metadata": {
    "application/vnd.databricks.v1+cell": {
     "cellMetadata": {
      "byteLimit": 2048000,
      "rowLimit": 10000
     },
     "inputWidgets": {},
     "nuid": "4648ac4d-5fae-4604-b120-d3dcec1451c1",
     "showTitle": false,
     "title": ""
    }
   },
   "outputs": [
    {
     "output_type": "display_data",
     "data": {
      "text/html": [
       "<style scoped>\n",
       "  .table-result-container {\n",
       "    max-height: 300px;\n",
       "    overflow: auto;\n",
       "  }\n",
       "  table, th, td {\n",
       "    border: 1px solid black;\n",
       "    border-collapse: collapse;\n",
       "  }\n",
       "  th, td {\n",
       "    padding: 5px;\n",
       "  }\n",
       "  th {\n",
       "    text-align: left;\n",
       "  }\n",
       "</style><div class='table-result-container'><table class='table-result'><thead style='background-color: white'><tr><th>emp_id</th><th>experience</th><th>salary</th></tr></thead><tbody><tr><td>1</td><td>Junior</td><td>10000</td></tr><tr><td>2</td><td>Junior</td><td>15000</td></tr><tr><td>3</td><td>Junior</td><td>40000</td></tr><tr><td>4</td><td>Senior</td><td>16000</td></tr><tr><td>5</td><td>Senior</td><td>20000</td></tr><tr><td>6</td><td>Senior</td><td>50000</td></tr></tbody></table></div>"
      ]
     },
     "metadata": {
      "application/vnd.databricks.v1+output": {
       "addedWidgets": {},
       "aggData": [],
       "aggError": "",
       "aggOverflow": false,
       "aggSchema": [],
       "aggSeriesLimitReached": false,
       "aggType": "",
       "arguments": {},
       "columnCustomDisplayInfos": {},
       "data": [
        [
         1,
         "Junior",
         10000
        ],
        [
         2,
         "Junior",
         15000
        ],
        [
         3,
         "Junior",
         40000
        ],
        [
         4,
         "Senior",
         16000
        ],
        [
         5,
         "Senior",
         20000
        ],
        [
         6,
         "Senior",
         50000
        ]
       ],
       "datasetInfos": [],
       "dbfsResultPath": null,
       "isJsonSchema": true,
       "metadata": {},
       "overflow": false,
       "plotOptions": {
        "customPlotOptions": {},
        "displayType": "table",
        "pivotAggregation": null,
        "pivotColumns": null,
        "xColumns": null,
        "yColumns": null
       },
       "removedWidgets": [],
       "schema": [
        {
         "metadata": "{}",
         "name": "emp_id",
         "type": "\"integer\""
        },
        {
         "metadata": "{}",
         "name": "experience",
         "type": "\"string\""
        },
        {
         "metadata": "{}",
         "name": "salary",
         "type": "\"integer\""
        }
       ],
       "type": "table"
      }
     },
     "output_type": "display_data"
    }
   ],
   "source": [
    "display(my_data)"
   ]
  },
  {
   "cell_type": "code",
   "execution_count": 0,
   "metadata": {
    "application/vnd.databricks.v1+cell": {
     "cellMetadata": {
      "byteLimit": 2048000,
      "rowLimit": 10000
     },
     "inputWidgets": {},
     "nuid": "725a1ef8-840f-4e7d-86ac-f80129b11c08",
     "showTitle": false,
     "title": ""
    }
   },
   "outputs": [],
   "source": [
    "from pyspark.sql.types import StructType,StructField,StringType,IntegerType"
   ]
  },
  {
   "cell_type": "code",
   "execution_count": 0,
   "metadata": {
    "application/vnd.databricks.v1+cell": {
     "cellMetadata": {
      "byteLimit": 2048000,
      "rowLimit": 10000
     },
     "inputWidgets": {},
     "nuid": "8267ef8a-569a-4506-9723-fda6ecbce411",
     "showTitle": false,
     "title": ""
    }
   },
   "outputs": [],
   "source": [
    "schema=StructType([\n",
    "    StructField(\"emp_id\",IntegerType(),True),\n",
    "    StructField(\"experience\",StringType(),True),\n",
    "    StructField(\"salary\",IntegerType(),True)\n",
    "]\n",
    ")"
   ]
  },
  {
   "cell_type": "code",
   "execution_count": 0,
   "metadata": {
    "application/vnd.databricks.v1+cell": {
     "cellMetadata": {
      "byteLimit": 2048000,
      "rowLimit": 10000
     },
     "inputWidgets": {},
     "nuid": "27a39d4e-0dba-4cf5-b805-ca1554ea93e7",
     "showTitle": false,
     "title": ""
    }
   },
   "outputs": [],
   "source": [
    "data=[(1,\"Junior\",10000),\n",
    "      (2,\"Junior\",15000),\n",
    "      (3,\"Junior\",40000),\n",
    "      (4,\"Senior\",16000),\n",
    "      (5,\"Senior\",20000),\n",
    "      (6,\"Senior\",50000)]"
   ]
  },
  {
   "cell_type": "code",
   "execution_count": 0,
   "metadata": {
    "application/vnd.databricks.v1+cell": {
     "cellMetadata": {
      "byteLimit": 2048000,
      "rowLimit": 10000
     },
     "inputWidgets": {},
     "nuid": "0bb42441-7a1c-44b9-889f-07fbc2fe896c",
     "showTitle": false,
     "title": ""
    }
   },
   "outputs": [],
   "source": [
    "my_data=spark.createDataFrame(data=data,schema=schema)"
   ]
  },
  {
   "cell_type": "code",
   "execution_count": 0,
   "metadata": {
    "application/vnd.databricks.v1+cell": {
     "cellMetadata": {
      "byteLimit": 2048000,
      "rowLimit": 10000
     },
     "inputWidgets": {},
     "nuid": "9973f297-c29a-41a8-8b09-4fcef8557910",
     "showTitle": false,
     "title": ""
    }
   },
   "outputs": [
    {
     "output_type": "display_data",
     "data": {
      "text/html": [
       "<style scoped>\n",
       "  .table-result-container {\n",
       "    max-height: 300px;\n",
       "    overflow: auto;\n",
       "  }\n",
       "  table, th, td {\n",
       "    border: 1px solid black;\n",
       "    border-collapse: collapse;\n",
       "  }\n",
       "  th, td {\n",
       "    padding: 5px;\n",
       "  }\n",
       "  th {\n",
       "    text-align: left;\n",
       "  }\n",
       "</style><div class='table-result-container'><table class='table-result'><thead style='background-color: white'><tr><th>emp_id</th><th>experience</th><th>salary</th></tr></thead><tbody><tr><td>1</td><td>Junior</td><td>10000</td></tr><tr><td>2</td><td>Junior</td><td>15000</td></tr><tr><td>3</td><td>Junior</td><td>40000</td></tr><tr><td>4</td><td>Senior</td><td>16000</td></tr><tr><td>5</td><td>Senior</td><td>20000</td></tr><tr><td>6</td><td>Senior</td><td>50000</td></tr></tbody></table></div>"
      ]
     },
     "metadata": {
      "application/vnd.databricks.v1+output": {
       "addedWidgets": {},
       "aggData": [],
       "aggError": "",
       "aggOverflow": false,
       "aggSchema": [],
       "aggSeriesLimitReached": false,
       "aggType": "",
       "arguments": {},
       "columnCustomDisplayInfos": {},
       "data": [
        [
         1,
         "Junior",
         10000
        ],
        [
         2,
         "Junior",
         15000
        ],
        [
         3,
         "Junior",
         40000
        ],
        [
         4,
         "Senior",
         16000
        ],
        [
         5,
         "Senior",
         20000
        ],
        [
         6,
         "Senior",
         50000
        ]
       ],
       "datasetInfos": [],
       "dbfsResultPath": null,
       "isJsonSchema": true,
       "metadata": {},
       "overflow": false,
       "plotOptions": {
        "customPlotOptions": {},
        "displayType": "table",
        "pivotAggregation": null,
        "pivotColumns": null,
        "xColumns": null,
        "yColumns": null
       },
       "removedWidgets": [],
       "schema": [
        {
         "metadata": "{}",
         "name": "emp_id",
         "type": "\"integer\""
        },
        {
         "metadata": "{}",
         "name": "experience",
         "type": "\"string\""
        },
        {
         "metadata": "{}",
         "name": "salary",
         "type": "\"integer\""
        }
       ],
       "type": "table"
      }
     },
     "output_type": "display_data"
    }
   ],
   "source": [
    "display(my_data)"
   ]
  },
  {
   "cell_type": "code",
   "execution_count": 0,
   "metadata": {
    "application/vnd.databricks.v1+cell": {
     "cellMetadata": {
      "byteLimit": 2048000,
      "rowLimit": 10000
     },
     "inputWidgets": {},
     "nuid": "c90b9223-bebf-4880-8600-8cdbc215fa74",
     "showTitle": false,
     "title": ""
    }
   },
   "outputs": [],
   "source": [
    "from pyspark.sql.functions import sum,col,max,coalesce"
   ]
  },
  {
   "cell_type": "code",
   "execution_count": 0,
   "metadata": {
    "application/vnd.databricks.v1+cell": {
     "cellMetadata": {
      "byteLimit": 2048000,
      "rowLimit": 10000
     },
     "inputWidgets": {},
     "nuid": "c71dcb0b-9eac-4c0f-b95c-48293a303b1d",
     "showTitle": false,
     "title": ""
    }
   },
   "outputs": [],
   "source": [
    "from pyspark.sql import Window"
   ]
  },
  {
   "cell_type": "code",
   "execution_count": 0,
   "metadata": {
    "application/vnd.databricks.v1+cell": {
     "cellMetadata": {
      "byteLimit": 2048000,
      "rowLimit": 10000
     },
     "inputWidgets": {},
     "nuid": "0fa3f8cb-e22a-4da4-84df-de5fd971d8fd",
     "showTitle": false,
     "title": ""
    }
   },
   "outputs": [],
   "source": [
    "# 1. get the running sum with Window function sum\n",
    "# 𝘀𝘂𝗺(\"𝘀𝗮𝗹𝗮𝗿𝘆\").𝗼𝘃𝗲𝗿(𝗪𝗶𝗻𝗱𝗼𝘄.𝗽𝗮𝗿𝘁𝗶𝘁𝗶𝗼𝗻𝗕𝘆(\"𝗲𝘅𝗽𝗲𝗿𝗶𝗲𝗻𝗰𝗲\").𝗼𝗿𝗱𝗲𝗿𝗕𝘆(\"𝘀𝗮𝗹𝗮𝗿𝘆\"))\n",
    "running_salary_df=my_data.withColumn(\"running_salary\",sum(\"salary\")\n",
    "                                     .over(Window.partitionBy(\"experience\")\n",
    "                                    .orderBy([\"salary\",\"emp_id\"])))"
   ]
  },
  {
   "cell_type": "code",
   "execution_count": 0,
   "metadata": {
    "application/vnd.databricks.v1+cell": {
     "cellMetadata": {
      "byteLimit": 2048000,
      "rowLimit": 10000
     },
     "inputWidgets": {},
     "nuid": "5fcb3267-9911-431c-b0da-5a2ca62d9ce1",
     "showTitle": false,
     "title": ""
    }
   },
   "outputs": [
    {
     "output_type": "display_data",
     "data": {
      "text/html": [
       "<style scoped>\n",
       "  .table-result-container {\n",
       "    max-height: 300px;\n",
       "    overflow: auto;\n",
       "  }\n",
       "  table, th, td {\n",
       "    border: 1px solid black;\n",
       "    border-collapse: collapse;\n",
       "  }\n",
       "  th, td {\n",
       "    padding: 5px;\n",
       "  }\n",
       "  th {\n",
       "    text-align: left;\n",
       "  }\n",
       "</style><div class='table-result-container'><table class='table-result'><thead style='background-color: white'><tr><th>emp_id</th><th>experience</th><th>salary</th><th>running_salary</th></tr></thead><tbody><tr><td>1</td><td>Junior</td><td>10000</td><td>10000</td></tr><tr><td>2</td><td>Junior</td><td>15000</td><td>25000</td></tr><tr><td>3</td><td>Junior</td><td>40000</td><td>65000</td></tr><tr><td>4</td><td>Senior</td><td>16000</td><td>16000</td></tr><tr><td>5</td><td>Senior</td><td>20000</td><td>36000</td></tr><tr><td>6</td><td>Senior</td><td>50000</td><td>86000</td></tr></tbody></table></div>"
      ]
     },
     "metadata": {
      "application/vnd.databricks.v1+output": {
       "addedWidgets": {},
       "aggData": [],
       "aggError": "",
       "aggOverflow": false,
       "aggSchema": [],
       "aggSeriesLimitReached": false,
       "aggType": "",
       "arguments": {},
       "columnCustomDisplayInfos": {},
       "data": [
        [
         1,
         "Junior",
         10000,
         10000
        ],
        [
         2,
         "Junior",
         15000,
         25000
        ],
        [
         3,
         "Junior",
         40000,
         65000
        ],
        [
         4,
         "Senior",
         16000,
         16000
        ],
        [
         5,
         "Senior",
         20000,
         36000
        ],
        [
         6,
         "Senior",
         50000,
         86000
        ]
       ],
       "datasetInfos": [],
       "dbfsResultPath": null,
       "isJsonSchema": true,
       "metadata": {},
       "overflow": false,
       "plotOptions": {
        "customPlotOptions": {},
        "displayType": "table",
        "pivotAggregation": null,
        "pivotColumns": null,
        "xColumns": null,
        "yColumns": null
       },
       "removedWidgets": [],
       "schema": [
        {
         "metadata": "{}",
         "name": "emp_id",
         "type": "\"integer\""
        },
        {
         "metadata": "{}",
         "name": "experience",
         "type": "\"string\""
        },
        {
         "metadata": "{}",
         "name": "salary",
         "type": "\"integer\""
        },
        {
         "metadata": "{}",
         "name": "running_salary",
         "type": "\"long\""
        }
       ],
       "type": "table"
      }
     },
     "output_type": "display_data"
    }
   ],
   "source": [
    "display(running_salary_df)"
   ]
  },
  {
   "cell_type": "code",
   "execution_count": 0,
   "metadata": {
    "application/vnd.databricks.v1+cell": {
     "cellMetadata": {
      "byteLimit": 2048000,
      "rowLimit": 10000
     },
     "inputWidgets": {},
     "nuid": "dc2bc294-3f26-4143-9945-e950ac1ef4a9",
     "showTitle": false,
     "title": ""
    }
   },
   "outputs": [],
   "source": [
    "#filter example\n",
    "# df.filter((col(\"act_date\") >= \"2016-10-01\") & (col(\"act_date\") <= \"2017-04-01\"))\n",
    "# df.filter(\"act_date >='2016-10-01' AND act_date <='2017-04-01'\")\n",
    "# df.filter(col(\"act_date\").between(\"2016-10-01\", \"2017-04-01\"))\n",
    "# df.filter(\"act_date BETWEEN '2016-10-01' AND '2017-04-01'\")\n"
   ]
  },
  {
   "cell_type": "code",
   "execution_count": 0,
   "metadata": {
    "application/vnd.databricks.v1+cell": {
     "cellMetadata": {
      "byteLimit": 2048000,
      "rowLimit": 10000
     },
     "inputWidgets": {},
     "nuid": "15d46f56-4cc1-40da-84c3-d182918797f5",
     "showTitle": false,
     "title": ""
    }
   },
   "outputs": [],
   "source": [
    "# 2. filter the result with running_salary lower than 70000\n",
    "# 𝗳𝗶𝗹𝘁𝗲𝗿($\"𝗲𝘅𝗽𝗲𝗿𝗶𝗲𝗻𝗰𝗲\" === \"𝗦𝗲𝗻𝗶𝗼𝗿\" && $\"𝗿𝘂𝗻𝗻𝗶𝗻𝗴_𝘀𝗮𝗹𝗮𝗿𝘆\" < 𝟳𝟬𝟬𝟬𝟬)\n",
    "senior_df=running_salary_df.filter((col(\"experience\") == 'Senior') & (col(\"running_salary\") < 70000))"
   ]
  },
  {
   "cell_type": "code",
   "execution_count": 0,
   "metadata": {
    "application/vnd.databricks.v1+cell": {
     "cellMetadata": {
      "byteLimit": 2048000,
      "rowLimit": 10000
     },
     "inputWidgets": {},
     "nuid": "ae7ad7a9-3cce-4e30-b7b3-1ce4e73bc34d",
     "showTitle": false,
     "title": ""
    }
   },
   "outputs": [
    {
     "output_type": "display_data",
     "data": {
      "text/html": [
       "<style scoped>\n",
       "  .table-result-container {\n",
       "    max-height: 300px;\n",
       "    overflow: auto;\n",
       "  }\n",
       "  table, th, td {\n",
       "    border: 1px solid black;\n",
       "    border-collapse: collapse;\n",
       "  }\n",
       "  th, td {\n",
       "    padding: 5px;\n",
       "  }\n",
       "  th {\n",
       "    text-align: left;\n",
       "  }\n",
       "</style><div class='table-result-container'><table class='table-result'><thead style='background-color: white'><tr><th>emp_id</th><th>experience</th><th>salary</th><th>running_salary</th></tr></thead><tbody><tr><td>4</td><td>Senior</td><td>16000</td><td>16000</td></tr><tr><td>5</td><td>Senior</td><td>20000</td><td>36000</td></tr></tbody></table></div>"
      ]
     },
     "metadata": {
      "application/vnd.databricks.v1+output": {
       "addedWidgets": {},
       "aggData": [],
       "aggError": "",
       "aggOverflow": false,
       "aggSchema": [],
       "aggSeriesLimitReached": false,
       "aggType": "",
       "arguments": {},
       "columnCustomDisplayInfos": {},
       "data": [
        [
         4,
         "Senior",
         16000,
         16000
        ],
        [
         5,
         "Senior",
         20000,
         36000
        ]
       ],
       "datasetInfos": [],
       "dbfsResultPath": null,
       "isJsonSchema": true,
       "metadata": {},
       "overflow": false,
       "plotOptions": {
        "customPlotOptions": {},
        "displayType": "table",
        "pivotAggregation": null,
        "pivotColumns": null,
        "xColumns": null,
        "yColumns": null
       },
       "removedWidgets": [],
       "schema": [
        {
         "metadata": "{}",
         "name": "emp_id",
         "type": "\"integer\""
        },
        {
         "metadata": "{}",
         "name": "experience",
         "type": "\"string\""
        },
        {
         "metadata": "{}",
         "name": "salary",
         "type": "\"integer\""
        },
        {
         "metadata": "{}",
         "name": "running_salary",
         "type": "\"long\""
        }
       ],
       "type": "table"
      }
     },
     "output_type": "display_data"
    }
   ],
   "source": [
    "display(senior_df)\n",
    "#This means in 70000 we can hire 2 senior and below re there details."
   ]
  },
  {
   "cell_type": "code",
   "execution_count": 0,
   "metadata": {
    "application/vnd.databricks.v1+cell": {
     "cellMetadata": {
      "byteLimit": 2048000,
      "rowLimit": 10000
     },
     "inputWidgets": {},
     "nuid": "60393867-9625-4528-82c1-b5f19092998f",
     "showTitle": false,
     "title": ""
    }
   },
   "outputs": [],
   "source": [
    "remainingbudget_df=senior_df.select(max(\"running_salary\").alias(\"remain_sal\"))"
   ]
  },
  {
   "cell_type": "code",
   "execution_count": 0,
   "metadata": {
    "application/vnd.databricks.v1+cell": {
     "cellMetadata": {
      "byteLimit": 2048000,
      "rowLimit": 10000
     },
     "inputWidgets": {},
     "nuid": "4e62a748-feff-4b25-ba5e-fb0958006240",
     "showTitle": false,
     "title": ""
    }
   },
   "outputs": [
    {
     "output_type": "stream",
     "name": "stdout",
     "output_type": "stream",
     "text": [
      "36000\n"
     ]
    }
   ],
   "source": [
    "remaining_money=remainingbudget_df.na.fill(value=0).collect()[0][0]\n",
    "print(remaining_money)"
   ]
  },
  {
   "cell_type": "code",
   "execution_count": 0,
   "metadata": {
    "application/vnd.databricks.v1+cell": {
     "cellMetadata": {
      "byteLimit": 2048000,
      "rowLimit": 10000
     },
     "inputWidgets": {},
     "nuid": "9e4c17a1-ee85-4330-92c7-3ceca31e71f8",
     "showTitle": false,
     "title": ""
    }
   },
   "outputs": [
    {
     "output_type": "display_data",
     "data": {
      "text/html": [
       "<style scoped>\n",
       "  .table-result-container {\n",
       "    max-height: 300px;\n",
       "    overflow: auto;\n",
       "  }\n",
       "  table, th, td {\n",
       "    border: 1px solid black;\n",
       "    border-collapse: collapse;\n",
       "  }\n",
       "  th, td {\n",
       "    padding: 5px;\n",
       "  }\n",
       "  th {\n",
       "    text-align: left;\n",
       "  }\n",
       "</style><div class='table-result-container'><table class='table-result'><thead style='background-color: white'><tr><th>emp_id</th><th>experience</th><th>salary</th><th>running_salary</th></tr></thead><tbody><tr><td>1</td><td>Junior</td><td>10000</td><td>10000</td></tr><tr><td>2</td><td>Junior</td><td>15000</td><td>25000</td></tr></tbody></table></div>"
      ]
     },
     "metadata": {
      "application/vnd.databricks.v1+output": {
       "addedWidgets": {},
       "aggData": [],
       "aggError": "",
       "aggOverflow": false,
       "aggSchema": [],
       "aggSeriesLimitReached": false,
       "aggType": "",
       "arguments": {},
       "columnCustomDisplayInfos": {},
       "data": [
        [
         1,
         "Junior",
         10000,
         10000
        ],
        [
         2,
         "Junior",
         15000,
         25000
        ]
       ],
       "datasetInfos": [],
       "dbfsResultPath": null,
       "isJsonSchema": true,
       "metadata": {},
       "overflow": false,
       "plotOptions": {
        "customPlotOptions": {},
        "displayType": "table",
        "pivotAggregation": null,
        "pivotColumns": null,
        "xColumns": null,
        "yColumns": null
       },
       "removedWidgets": [],
       "schema": [
        {
         "metadata": "{}",
         "name": "emp_id",
         "type": "\"integer\""
        },
        {
         "metadata": "{}",
         "name": "experience",
         "type": "\"string\""
        },
        {
         "metadata": "{}",
         "name": "salary",
         "type": "\"integer\""
        },
        {
         "metadata": "{}",
         "name": "running_salary",
         "type": "\"long\""
        }
       ],
       "type": "table"
      }
     },
     "output_type": "display_data"
    }
   ],
   "source": [
    "filterjunior_df=running_salary_df.filter((col(\"experience\")==\"Junior\") & (col(\"running_salary\") < (70000-remaining_money)))\n",
    "display(filterjunior_df)"
   ]
  },
  {
   "cell_type": "code",
   "execution_count": 0,
   "metadata": {
    "application/vnd.databricks.v1+cell": {
     "cellMetadata": {
      "byteLimit": 2048000,
      "rowLimit": 10000
     },
     "inputWidgets": {},
     "nuid": "636da025-3434-4cf4-b6b3-443915d4c11a",
     "showTitle": false,
     "title": ""
    }
   },
   "outputs": [
    {
     "output_type": "stream",
     "name": "stdout",
     "output_type": "stream",
     "text": [
      "+------+----------+------+--------------+\n|emp_id|experience|salary|running_salary|\n+------+----------+------+--------------+\n|     4|    Senior| 16000|         16000|\n|     5|    Senior| 20000|         36000|\n|     1|    Junior| 10000|         10000|\n|     2|    Junior| 15000|         25000|\n+------+----------+------+--------------+\n\n"
     ]
    }
   ],
   "source": [
    "senior_df.unionAll(filterjunior_df).show()"
   ]
  },
  {
   "cell_type": "markdown",
   "metadata": {
    "application/vnd.databricks.v1+cell": {
     "cellMetadata": {},
     "inputWidgets": {},
     "nuid": "b416e481-68de-40e4-a113-2ccd2e77a3c2",
     "showTitle": false,
     "title": ""
    }
   },
   "source": [
    "##Test Case 2"
   ]
  },
  {
   "cell_type": "code",
   "execution_count": 0,
   "metadata": {
    "application/vnd.databricks.v1+cell": {
     "cellMetadata": {
      "byteLimit": 2048000,
      "rowLimit": 10000
     },
     "inputWidgets": {},
     "nuid": "61eeb5ab-df02-4605-9bf3-1574ce636606",
     "showTitle": false,
     "title": ""
    }
   },
   "outputs": [],
   "source": [
    "testdata2=[(10,\"Junior\",10000),\n",
    "      (40,\"Junior\",10000),\n",
    "      (20,\"senior\",15000),\n",
    "      (30,\"Senior\",30000),\n",
    "      (50,\"Senior\",15000)\n",
    "      ]"
   ]
  },
  {
   "cell_type": "code",
   "execution_count": 0,
   "metadata": {
    "application/vnd.databricks.v1+cell": {
     "cellMetadata": {
      "byteLimit": 2048000,
      "rowLimit": 10000
     },
     "inputWidgets": {},
     "nuid": "11946866-3684-4a93-813c-ba666b052093",
     "showTitle": false,
     "title": ""
    }
   },
   "outputs": [],
   "source": [
    "testdata3=[(10,\"Junior\",15000),\n",
    "      (40,\"Junior\",15000),\n",
    "      (20,\"Junior\",20000),\n",
    "      (30,\"Senior\",80000)\n",
    "      ]"
   ]
  },
  {
   "cell_type": "code",
   "execution_count": 0,
   "metadata": {
    "application/vnd.databricks.v1+cell": {
     "cellMetadata": {
      "byteLimit": 2048000,
      "rowLimit": 10000
     },
     "inputWidgets": {},
     "nuid": "1ec3755e-eb29-4b38-9930-9b29a5d05351",
     "showTitle": false,
     "title": ""
    }
   },
   "outputs": [],
   "source": [
    "testdata_df=spark.createDataFrame(data=testdata3,schema=schema)"
   ]
  },
  {
   "cell_type": "code",
   "execution_count": 0,
   "metadata": {
    "application/vnd.databricks.v1+cell": {
     "cellMetadata": {
      "byteLimit": 2048000,
      "rowLimit": 10000
     },
     "inputWidgets": {},
     "nuid": "0b55a2a4-046b-4dbe-a05f-cb72603a730e",
     "showTitle": false,
     "title": ""
    }
   },
   "outputs": [
    {
     "output_type": "stream",
     "name": "stdout",
     "output_type": "stream",
     "text": [
      "+------+----------+------+--------------+\n|emp_id|experience|salary|running_salary|\n+------+----------+------+--------------+\n|    10|    Junior| 15000|         15000|\n|    40|    Junior| 15000|         30000|\n|    20|    Junior| 20000|         50000|\n+------+----------+------+--------------+\n\n"
     ]
    }
   ],
   "source": [
    "##calculate running salary\n",
    "running_salary_df=testdata_df.withColumn(\"running_salary\",sum(\"salary\")\n",
    "                                     .over(Window.partitionBy(\"experience\")\n",
    "                                    .orderBy([\"salary\",\"emp_id\"])))\n",
    "\n",
    "#first hire senior with salary < 70000  \n",
    "senior_df=running_salary_df.filter((col(\"experience\") == 'Senior') & (col(\"running_salary\") < 70000))\n",
    "\n",
    "#Calculate remaining budget\n",
    "remainingbudget_df=senior_df.select(max(\"running_salary\").alias(\"remain_sal\")) \n",
    "remaining_money=remainingbudget_df.na.fill(value=0).collect()[0][0]     \n",
    "\n",
    "#Now from remainign budget hire the Juniors\n",
    "filterjunior_df=running_salary_df.filter((col(\"experience\")==\"Junior\") & \n",
    "                                         (col(\"running_salary\") < (70000-remaining_money)))    \n",
    "\n",
    "#Union senior and Junior\n",
    "senior_df.unionAll(filterjunior_df).show()                        "
   ]
  },
  {
   "cell_type": "code",
   "execution_count": 0,
   "metadata": {
    "application/vnd.databricks.v1+cell": {
     "cellMetadata": {},
     "inputWidgets": {},
     "nuid": "48a64964-a652-4619-9a43-c88931242628",
     "showTitle": false,
     "title": ""
    }
   },
   "outputs": [],
   "source": []
  }
 ],
 "metadata": {
  "application/vnd.databricks.v1+notebook": {
   "dashboards": [],
   "language": "python",
   "notebookMetadata": {
    "pythonIndentUnit": 4
   },
   "notebookName": "Day8 Microsoft Hire Candidates",
   "widgets": {}
  }
 },
 "nbformat": 4,
 "nbformat_minor": 0
}
