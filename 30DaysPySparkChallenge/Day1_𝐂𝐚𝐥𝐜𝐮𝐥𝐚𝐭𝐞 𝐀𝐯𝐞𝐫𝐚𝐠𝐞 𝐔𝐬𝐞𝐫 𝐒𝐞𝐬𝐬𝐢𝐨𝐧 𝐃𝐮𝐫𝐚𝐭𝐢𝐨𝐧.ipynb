{
 "cells": [
  {
   "cell_type": "markdown",
   "metadata": {
    "application/vnd.databricks.v1+cell": {
     "cellMetadata": {
      "byteLimit": 2048000,
      "rowLimit": 10000
     },
     "inputWidgets": {},
     "nuid": "bfca42ba-7ca1-49bf-b1ce-5a2d4c28521e",
     "showTitle": false,
     "title": ""
    }
   },
   "source": [
    " 𝐂𝐚𝐥𝐜𝐮𝐥𝐚𝐭𝐞 𝐀𝐯𝐞𝐫𝐚𝐠𝐞 𝐔𝐬𝐞𝐫 𝐒𝐞𝐬𝐬𝐢𝐨𝐧 𝐃𝐮𝐫𝐚𝐭𝐢𝐨𝐧?\n",
    "\n",
    "You have a dataset containing user activity logs in a PySpark DataFrame with the following columns: user_id, timestamp, and action. The action column indicates whether the user started or ended a session. It can have values 'start' or 'end'. Your task is to calculate the average duration of user sessions."
   ]
  },
  {
   "cell_type": "code",
   "execution_count": 0,
   "metadata": {
    "application/vnd.databricks.v1+cell": {
     "cellMetadata": {
      "byteLimit": 2048000,
      "rowLimit": 10000
     },
     "inputWidgets": {},
     "nuid": "eef904b7-7acc-4308-aecc-8d7c9ba0795e",
     "showTitle": false,
     "title": ""
    }
   },
   "outputs": [],
   "source": [
    "from pyspark.sql.functions import col\n",
    "from pyspark.sql.functions import unix_timestamp\n",
    "from pyspark.sql.window import Window\n",
    "from pyspark.sql.functions import lag,when,sum,avg"
   ]
  },
  {
   "cell_type": "code",
   "execution_count": 0,
   "metadata": {
    "application/vnd.databricks.v1+cell": {
     "cellMetadata": {
      "byteLimit": 2048000,
      "rowLimit": 10000
     },
     "inputWidgets": {},
     "nuid": "95e3e5e1-c187-430c-865c-83f402e47665",
     "showTitle": false,
     "title": ""
    }
   },
   "outputs": [],
   "source": [
    "data = [\n",
    "    (1, \"2022-01-01 10:00\", \"start\"),\n",
    "    (1, \"2022-01-01 10:15\", \"end\"),\n",
    "    (2, \"2022-01-01 11:00\", \"start\"),\n",
    "    (1, \"2022-01-01 11:30\", \"start\"),\n",
    "    (2, \"2022-01-01 11:45\", \"end\"),\n",
    "    (1, \"2022-01-01 12:00\", \"end\")\n",
    "]"
   ]
  },
  {
   "cell_type": "code",
   "execution_count": 0,
   "metadata": {
    "application/vnd.databricks.v1+cell": {
     "cellMetadata": {
      "byteLimit": 2048000,
      "rowLimit": 10000
     },
     "inputWidgets": {},
     "nuid": "7c509b08-0b7d-44dc-9f6d-bc2fc3727c33",
     "showTitle": false,
     "title": ""
    }
   },
   "outputs": [],
   "source": [
    "schema = [\"user_id\", \"timestamp\", \"action\"]"
   ]
  },
  {
   "cell_type": "code",
   "execution_count": 0,
   "metadata": {
    "application/vnd.databricks.v1+cell": {
     "cellMetadata": {
      "byteLimit": 2048000,
      "rowLimit": 10000
     },
     "inputWidgets": {},
     "nuid": "16991b19-6b51-4779-b18a-b61e4a9d408e",
     "showTitle": false,
     "title": ""
    }
   },
   "outputs": [],
   "source": [
    "df=spark.createDataFrame(data,schema=schema)"
   ]
  },
  {
   "cell_type": "code",
   "execution_count": 0,
   "metadata": {
    "application/vnd.databricks.v1+cell": {
     "cellMetadata": {
      "byteLimit": 2048000,
      "rowLimit": 10000
     },
     "inputWidgets": {},
     "nuid": "12367a3c-f1bd-4daf-a608-78c921b22cb4",
     "showTitle": false,
     "title": ""
    }
   },
   "outputs": [
    {
     "output_type": "stream",
     "name": "stdout",
     "output_type": "stream",
     "text": [
      "+-------+----------------+------+\n|user_id|       timestamp|action|\n+-------+----------------+------+\n|      1|2022-01-01 10:00| start|\n|      1|2022-01-01 10:15|   end|\n|      2|2022-01-01 11:00| start|\n|      1|2022-01-01 11:30| start|\n|      2|2022-01-01 11:45|   end|\n|      1|2022-01-01 12:00|   end|\n+-------+----------------+------+\n\n"
     ]
    }
   ],
   "source": [
    "df.show()"
   ]
  },
  {
   "cell_type": "code",
   "execution_count": 0,
   "metadata": {
    "application/vnd.databricks.v1+cell": {
     "cellMetadata": {
      "byteLimit": 2048000,
      "rowLimit": 10000
     },
     "inputWidgets": {},
     "nuid": "bb696f49-511a-4aaa-9361-37c790055ca2",
     "showTitle": false,
     "title": ""
    }
   },
   "outputs": [],
   "source": [
    "df=df.withColumn(\"unix_timestamp\",unix_timestamp(\"timestamp\",\"yyyy-MM-dd HH:mm\"))"
   ]
  },
  {
   "cell_type": "code",
   "execution_count": 0,
   "metadata": {
    "application/vnd.databricks.v1+cell": {
     "cellMetadata": {
      "byteLimit": 2048000,
      "rowLimit": 10000
     },
     "inputWidgets": {},
     "nuid": "71d3156f-d301-4a10-8fce-80a555d04910",
     "showTitle": false,
     "title": ""
    }
   },
   "outputs": [
    {
     "output_type": "stream",
     "name": "stdout",
     "output_type": "stream",
     "text": [
      "+-------+----------------+------+--------------+\n|user_id|       timestamp|action|unix_timestamp|\n+-------+----------------+------+--------------+\n|      1|2022-01-01 10:00| start|    1641031200|\n|      1|2022-01-01 10:15|   end|    1641032100|\n|      2|2022-01-01 11:00| start|    1641034800|\n|      1|2022-01-01 11:30| start|    1641036600|\n|      2|2022-01-01 11:45|   end|    1641037500|\n|      1|2022-01-01 12:00|   end|    1641038400|\n+-------+----------------+------+--------------+\n\n"
     ]
    }
   ],
   "source": [
    "df.show()"
   ]
  },
  {
   "cell_type": "code",
   "execution_count": 0,
   "metadata": {
    "application/vnd.databricks.v1+cell": {
     "cellMetadata": {
      "byteLimit": 2048000,
      "rowLimit": 10000
     },
     "inputWidgets": {},
     "nuid": "69a0185d-b3fb-4e16-8455-68d6ea80ceae",
     "showTitle": false,
     "title": ""
    }
   },
   "outputs": [],
   "source": [
    "#Calculate session Duration\n",
    "window_spec=Window.partitionBy(\"user_id\").orderBy(\"unix_timestamp\")"
   ]
  },
  {
   "cell_type": "code",
   "execution_count": 0,
   "metadata": {
    "application/vnd.databricks.v1+cell": {
     "cellMetadata": {
      "byteLimit": 2048000,
      "rowLimit": 10000
     },
     "inputWidgets": {},
     "nuid": "97e254ab-28db-4075-a3fb-1b7d2073efb6",
     "showTitle": false,
     "title": ""
    }
   },
   "outputs": [],
   "source": [
    "df=df.withColumn(\n",
    "    \"session_duration\",\n",
    "    when(col(\"action\") == \"end\",col(\"unix_timestamp\") - lag(col(\"unix_timestamp\")).over(window_spec))\n",
    ")"
   ]
  },
  {
   "cell_type": "code",
   "execution_count": 0,
   "metadata": {
    "application/vnd.databricks.v1+cell": {
     "cellMetadata": {
      "byteLimit": 2048000,
      "rowLimit": 10000
     },
     "inputWidgets": {},
     "nuid": "0488ba34-ddeb-44c5-93b8-afbab284e8d0",
     "showTitle": false,
     "title": ""
    }
   },
   "outputs": [
    {
     "output_type": "stream",
     "name": "stdout",
     "output_type": "stream",
     "text": [
      "+-------+----------------+------+--------------+----------------+\n|user_id|       timestamp|action|unix_timestamp|session_duration|\n+-------+----------------+------+--------------+----------------+\n|      1|2022-01-01 10:00| start|    1641031200|            null|\n|      1|2022-01-01 10:15|   end|    1641032100|             900|\n|      1|2022-01-01 11:30| start|    1641036600|            null|\n|      1|2022-01-01 12:00|   end|    1641038400|            1800|\n|      2|2022-01-01 11:00| start|    1641034800|            null|\n|      2|2022-01-01 11:45|   end|    1641037500|            2700|\n+-------+----------------+------+--------------+----------------+\n\n"
     ]
    }
   ],
   "source": [
    "df.show()"
   ]
  },
  {
   "cell_type": "code",
   "execution_count": 0,
   "metadata": {
    "application/vnd.databricks.v1+cell": {
     "cellMetadata": {
      "byteLimit": 2048000,
      "rowLimit": 10000
     },
     "inputWidgets": {},
     "nuid": "348940e6-e2f0-4f0d-9a92-7091de722b0b",
     "showTitle": false,
     "title": ""
    }
   },
   "outputs": [],
   "source": [
    "#calculate total session duration"
   ]
  },
  {
   "cell_type": "code",
   "execution_count": 0,
   "metadata": {
    "application/vnd.databricks.v1+cell": {
     "cellMetadata": {
      "byteLimit": 2048000,
      "rowLimit": 10000
     },
     "inputWidgets": {},
     "nuid": "41d9ab5e-8a32-4209-9a94-96489a80eb11",
     "showTitle": false,
     "title": ""
    }
   },
   "outputs": [],
   "source": [
    "user_session_duration=df.groupBy(col(\"user_id\")).agg(sum(\"session_duration\").alias(\"total_duration\"))"
   ]
  },
  {
   "cell_type": "code",
   "execution_count": 0,
   "metadata": {
    "application/vnd.databricks.v1+cell": {
     "cellMetadata": {
      "byteLimit": 2048000,
      "rowLimit": 10000
     },
     "inputWidgets": {},
     "nuid": "aea5e5cd-8ea5-47cb-9066-2bbea639cc4d",
     "showTitle": false,
     "title": ""
    }
   },
   "outputs": [
    {
     "output_type": "stream",
     "name": "stdout",
     "output_type": "stream",
     "text": [
      "+-------+--------------+\n|user_id|total_duration|\n+-------+--------------+\n|      1|          2700|\n|      2|          2700|\n+-------+--------------+\n\n"
     ]
    }
   ],
   "source": [
    "user_session_duration.show()"
   ]
  },
  {
   "cell_type": "code",
   "execution_count": 0,
   "metadata": {
    "application/vnd.databricks.v1+cell": {
     "cellMetadata": {
      "byteLimit": 2048000,
      "rowLimit": 10000
     },
     "inputWidgets": {},
     "nuid": "1851cc25-f588-4165-bc9e-96c59c4c3142",
     "showTitle": false,
     "title": ""
    }
   },
   "outputs": [],
   "source": [
    "average_duration=user_session_duration.agg(avg(\"total_duration\").alias(\"avg_duration\"))"
   ]
  },
  {
   "cell_type": "code",
   "execution_count": 0,
   "metadata": {
    "application/vnd.databricks.v1+cell": {
     "cellMetadata": {
      "byteLimit": 2048000,
      "rowLimit": 10000
     },
     "inputWidgets": {},
     "nuid": "5e476bc5-9ea3-42b5-a165-a41b2ee4a6f0",
     "showTitle": false,
     "title": ""
    }
   },
   "outputs": [
    {
     "output_type": "stream",
     "name": "stdout",
     "output_type": "stream",
     "text": [
      "+------------+\n|avg_duration|\n+------------+\n|      2700.0|\n+------------+\n\n"
     ]
    }
   ],
   "source": [
    "average_duration.show()"
   ]
  },
  {
   "cell_type": "code",
   "execution_count": 0,
   "metadata": {
    "application/vnd.databricks.v1+cell": {
     "cellMetadata": {},
     "inputWidgets": {},
     "nuid": "2536a3ea-e36a-4d21-8f64-fb3f1f093d0f",
     "showTitle": false,
     "title": ""
    }
   },
   "outputs": [],
   "source": []
  }
 ],
 "metadata": {
  "application/vnd.databricks.v1+notebook": {
   "dashboards": [],
   "language": "python",
   "notebookMetadata": {
    "pythonIndentUnit": 4
   },
   "notebookName": "Day1 𝐂𝐚𝐥𝐜𝐮𝐥𝐚𝐭𝐞 𝐀𝐯𝐞𝐫𝐚𝐠𝐞 𝐔𝐬𝐞𝐫 𝐒𝐞𝐬𝐬𝐢𝐨𝐧 𝐃𝐮𝐫𝐚𝐭𝐢𝐨𝐧",
   "widgets": {}
  }
 },
 "nbformat": 4,
 "nbformat_minor": 0
}
