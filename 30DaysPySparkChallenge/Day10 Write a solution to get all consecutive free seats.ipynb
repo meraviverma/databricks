{
 "cells": [
  {
   "cell_type": "markdown",
   "metadata": {
    "application/vnd.databricks.v1+cell": {
     "cellMetadata": {},
     "inputWidgets": {},
     "nuid": "06fb7706-18a3-4ae3-bd04-f0f2b66d508f",
     "showTitle": false,
     "title": ""
    }
   },
   "source": [
    "Write a solution to get all consecutive free seats.\n"
   ]
  },
  {
   "cell_type": "code",
   "execution_count": 0,
   "metadata": {
    "application/vnd.databricks.v1+cell": {
     "cellMetadata": {
      "byteLimit": 2048000,
      "rowLimit": 10000
     },
     "inputWidgets": {},
     "nuid": "eac16f33-9436-41e5-a4f8-cd598f7b052f",
     "showTitle": false,
     "title": ""
    }
   },
   "outputs": [],
   "source": [
    "from pyspark.sql.types import StructType,StructField,IntegerType,StringType,DateType\n",
    "from pyspark.sql import Window\n",
    "from pyspark.sql.functions import lead,col,lag,when\n"
   ]
  },
  {
   "cell_type": "code",
   "execution_count": 0,
   "metadata": {
    "application/vnd.databricks.v1+cell": {
     "cellMetadata": {
      "byteLimit": 2048000,
      "rowLimit": 10000
     },
     "inputWidgets": {},
     "nuid": "e495fbc8-893b-4bb2-9325-ad6c95986305",
     "showTitle": false,
     "title": ""
    }
   },
   "outputs": [],
   "source": [
    "data = [\n",
    " (1, 1), (2, 0), (3, 1), (4, 1), (5, 1),\n",
    " (6, 0), (7, 1), (8, 1), (9, 0), (10, 1),\n",
    " (11, 0), (12, 1), (13, 0), (14, 1), (15, 1),\n",
    " (16, 0), (17, 1), (18, 1), (19, 1), (20, 1)\n",
    "]"
   ]
  },
  {
   "cell_type": "code",
   "execution_count": 0,
   "metadata": {
    "application/vnd.databricks.v1+cell": {
     "cellMetadata": {
      "byteLimit": 2048000,
      "rowLimit": 10000
     },
     "inputWidgets": {},
     "nuid": "871a27f7-1115-4044-9bec-818bf09a1caf",
     "showTitle": false,
     "title": ""
    }
   },
   "outputs": [],
   "source": [
    "schema=StructType(\n",
    "    [\n",
    "        StructField(\"seat_id\",IntegerType(),True),\n",
    "        StructField(\"free\",IntegerType(),True)\n",
    "    ]\n",
    ")"
   ]
  },
  {
   "cell_type": "code",
   "execution_count": 0,
   "metadata": {
    "application/vnd.databricks.v1+cell": {
     "cellMetadata": {
      "byteLimit": 2048000,
      "rowLimit": 10000
     },
     "inputWidgets": {},
     "nuid": "7880c874-7ae1-42dc-9bba-7754b53324a8",
     "showTitle": false,
     "title": ""
    }
   },
   "outputs": [],
   "source": [
    "df = spark.createDataFrame(data, schema)"
   ]
  },
  {
   "cell_type": "code",
   "execution_count": 0,
   "metadata": {
    "application/vnd.databricks.v1+cell": {
     "cellMetadata": {
      "byteLimit": 2048000,
      "rowLimit": 10000
     },
     "inputWidgets": {},
     "nuid": "7ffcffe2-0044-4ff3-a597-146541b2530d",
     "showTitle": false,
     "title": ""
    }
   },
   "outputs": [
    {
     "output_type": "stream",
     "name": "stdout",
     "output_type": "stream",
     "text": [
      "+-------+----+\n|seat_id|free|\n+-------+----+\n|      1|   1|\n|      2|   0|\n|      3|   1|\n|      4|   1|\n|      5|   1|\n|      6|   0|\n|      7|   1|\n|      8|   1|\n|      9|   0|\n|     10|   1|\n|     11|   0|\n|     12|   1|\n|     13|   0|\n|     14|   1|\n|     15|   1|\n|     16|   0|\n|     17|   1|\n|     18|   1|\n|     19|   1|\n|     20|   1|\n+-------+----+\n\n"
     ]
    }
   ],
   "source": [
    "df.show()"
   ]
  },
  {
   "cell_type": "markdown",
   "metadata": {
    "application/vnd.databricks.v1+cell": {
     "cellMetadata": {},
     "inputWidgets": {},
     "nuid": "ac70e4de-b02e-423a-b6b8-9bb9067be3d4",
     "showTitle": false,
     "title": ""
    }
   },
   "source": [
    "#Solution1"
   ]
  },
  {
   "cell_type": "code",
   "execution_count": 0,
   "metadata": {
    "application/vnd.databricks.v1+cell": {
     "cellMetadata": {
      "byteLimit": 2048000,
      "rowLimit": 10000
     },
     "inputWidgets": {},
     "nuid": "f701f60a-d20a-4177-9900-fd71920e2a16",
     "showTitle": false,
     "title": ""
    }
   },
   "outputs": [],
   "source": [
    "w=Window.orderBy(\"seat_id\")\n",
    "df=df.withColumn(\"next_value\",lead(\"free\",1,0).over(w)).withColumn(\"prev_value\",lag(\"free\",1,0).over(w))"
   ]
  },
  {
   "cell_type": "code",
   "execution_count": 0,
   "metadata": {
    "application/vnd.databricks.v1+cell": {
     "cellMetadata": {
      "byteLimit": 2048000,
      "rowLimit": 10000
     },
     "inputWidgets": {},
     "nuid": "9a5847ea-162f-47b9-b6a9-8f8485baaef3",
     "showTitle": false,
     "title": ""
    }
   },
   "outputs": [
    {
     "output_type": "stream",
     "name": "stdout",
     "output_type": "stream",
     "text": [
      "+-------+----+----------+----------+-----+-----+\n|seat_id|free|next_value|prev_value|diff1|diff2|\n+-------+----+----------+----------+-----+-----+\n|      1|   1|         0|         0|   -1|   -1|\n|      2|   0|         1|         1|    1|    1|\n|      3|   1|         1|         0|    0|   -1|\n|      4|   1|         1|         1|    0|    0|\n|      5|   1|         0|         1|   -1|    0|\n|      6|   0|         1|         1|    1|    1|\n|      7|   1|         1|         0|    0|   -1|\n|      8|   1|         0|         1|   -1|    0|\n|      9|   0|         1|         1|    1|    1|\n|     10|   1|         0|         0|   -1|   -1|\n|     11|   0|         1|         1|    1|    1|\n|     12|   1|         0|         0|   -1|   -1|\n|     13|   0|         1|         1|    1|    1|\n|     14|   1|         1|         0|    0|   -1|\n|     15|   1|         0|         1|   -1|    0|\n|     16|   0|         1|         1|    1|    1|\n|     17|   1|         1|         0|    0|   -1|\n|     18|   1|         1|         1|    0|    0|\n|     19|   1|         1|         1|    0|    0|\n|     20|   1|         0|         1|   -1|    0|\n+-------+----+----------+----------+-----+-----+\n\n"
     ]
    }
   ],
   "source": [
    "df=df.withColumn(\"diff1\",col(\"next_value\")-col(\"free\")).withColumn(\"diff2\",col(\"prev_value\")-col(\"free\"))\n",
    "df.show()"
   ]
  },
  {
   "cell_type": "code",
   "execution_count": 0,
   "metadata": {
    "application/vnd.databricks.v1+cell": {
     "cellMetadata": {
      "byteLimit": 2048000,
      "rowLimit": 10000
     },
     "inputWidgets": {},
     "nuid": "eb0a6f80-bf9d-4ec0-aa2e-db7fb711e40c",
     "showTitle": false,
     "title": ""
    }
   },
   "outputs": [
    {
     "output_type": "stream",
     "name": "stdout",
     "output_type": "stream",
     "text": [
      "+-------+----+----------+----------+-----+-----+\n|seat_id|free|next_value|prev_value|diff1|diff2|\n+-------+----+----------+----------+-----+-----+\n|      3|   1|         1|         0|    0|   -1|\n|      4|   1|         1|         1|    0|    0|\n|      5|   1|         0|         1|   -1|    0|\n|      7|   1|         1|         0|    0|   -1|\n|      8|   1|         0|         1|   -1|    0|\n|     14|   1|         1|         0|    0|   -1|\n|     15|   1|         0|         1|   -1|    0|\n|     17|   1|         1|         0|    0|   -1|\n|     18|   1|         1|         1|    0|    0|\n|     19|   1|         1|         1|    0|    0|\n|     20|   1|         0|         1|   -1|    0|\n+-------+----+----------+----------+-----+-----+\n\n"
     ]
    }
   ],
   "source": [
    "df.filter( (col(\"diff1\") == 0) | (col(\"diff2\") == 0)).show()"
   ]
  },
  {
   "cell_type": "markdown",
   "metadata": {
    "application/vnd.databricks.v1+cell": {
     "cellMetadata": {},
     "inputWidgets": {},
     "nuid": "195210c8-0919-43a7-8783-e1a7efaa19e3",
     "showTitle": false,
     "title": ""
    }
   },
   "source": [
    "#Solution2"
   ]
  },
  {
   "cell_type": "code",
   "execution_count": 0,
   "metadata": {
    "application/vnd.databricks.v1+cell": {
     "cellMetadata": {
      "byteLimit": 2048000,
      "rowLimit": 10000
     },
     "inputWidgets": {},
     "nuid": "bedb5f1f-bd75-4332-8268-dbfa67764502",
     "showTitle": false,
     "title": ""
    }
   },
   "outputs": [
    {
     "output_type": "stream",
     "name": "stdout",
     "output_type": "stream",
     "text": [
      "+-------+----+\n|seat_id|free|\n+-------+----+\n|      1|   1|\n|      2|   0|\n|      3|   1|\n|      4|   1|\n|      5|   1|\n|      6|   0|\n|      7|   1|\n|      8|   1|\n|      9|   0|\n|     10|   1|\n|     11|   0|\n|     12|   1|\n|     13|   0|\n|     14|   1|\n|     15|   1|\n|     16|   0|\n|     17|   1|\n|     18|   1|\n|     19|   1|\n|     20|   1|\n+-------+----+\n\n+-------+\n|seat_id|\n+-------+\n|      3|\n|      4|\n|      5|\n|      7|\n|      8|\n|     14|\n|     15|\n|     17|\n|     18|\n|     19|\n|     20|\n+-------+\n\n"
     ]
    }
   ],
   "source": [
    "df_seat = spark.createDataFrame(data, schema)\n",
    "df_seat.show()\n",
    "w1=Window.orderBy('seat_id')\n",
    "\n",
    "df1=df_seat.withColumn('prev_seat',lag('free',1).over(w1)).withColumn('next_seat',lead('free',1).over(w1))\n",
    "df2=df1.filter( (col('next_seat').isin(1) & (col('free')==col('next_seat')) | (col('prev_seat').isin(1) & (col('free')==col('prev_seat'))) ))\\\n",
    ".select('seat_id').show()"
   ]
  },
  {
   "cell_type": "markdown",
   "metadata": {
    "application/vnd.databricks.v1+cell": {
     "cellMetadata": {},
     "inputWidgets": {},
     "nuid": "e52ed1e1-d3be-427f-a8c7-e900e010f7a9",
     "showTitle": false,
     "title": ""
    }
   },
   "source": [
    "#Solution3"
   ]
  },
  {
   "cell_type": "code",
   "execution_count": 0,
   "metadata": {
    "application/vnd.databricks.v1+cell": {
     "cellMetadata": {
      "byteLimit": 2048000,
      "rowLimit": 10000
     },
     "inputWidgets": {},
     "nuid": "27b4c524-5d54-480d-a778-1807da7f57be",
     "showTitle": false,
     "title": ""
    }
   },
   "outputs": [
    {
     "output_type": "stream",
     "name": "stdout",
     "output_type": "stream",
     "text": [
      "+-------+\n|seat_id|\n+-------+\n|      3|\n|      4|\n|      5|\n|      7|\n|      8|\n|     14|\n|     15|\n|     17|\n|     18|\n|     19|\n|     20|\n+-------+\n\n"
     ]
    }
   ],
   "source": [
    "df_seat2 = spark.createDataFrame(data = data, schema = schema)\n",
    "da= df_seat2.withColumn(\"next\", lead(col(\"free\")).over(Window.orderBy(\"seat_id\"))).withColumn(\"before\", lag(col(\"free\")).over(Window.orderBy(\"seat_id\")))\n",
    "db = da.withColumn(\"result\", when ((col(\"free\") == col(\"before\")) | (col(\"free\") == col(\"next\")), 1)\\\n",
    " .otherwise(0))\n",
    "dc = db.filter(col(\"result\") == 1).select (\"seat_id\")\n",
    "dc.show()"
   ]
  },
  {
   "cell_type": "code",
   "execution_count": 0,
   "metadata": {
    "application/vnd.databricks.v1+cell": {
     "cellMetadata": {},
     "inputWidgets": {},
     "nuid": "d36ce0ab-03e5-483c-87c7-45e09f723371",
     "showTitle": false,
     "title": ""
    }
   },
   "outputs": [],
   "source": []
  }
 ],
 "metadata": {
  "application/vnd.databricks.v1+notebook": {
   "dashboards": [],
   "environmentMetadata": null,
   "language": "python",
   "notebookMetadata": {
    "pythonIndentUnit": 4
   },
   "notebookName": "Day10 Write a solution to get all consecutive free seats",
   "widgets": {}
  }
 },
 "nbformat": 4,
 "nbformat_minor": 0
}
