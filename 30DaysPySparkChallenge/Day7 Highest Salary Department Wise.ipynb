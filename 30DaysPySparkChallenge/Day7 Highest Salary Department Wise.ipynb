{
 "cells": [
  {
   "cell_type": "code",
   "execution_count": 0,
   "metadata": {
    "application/vnd.databricks.v1+cell": {
     "cellMetadata": {
      "byteLimit": 2048000,
      "rowLimit": 10000
     },
     "inputWidgets": {},
     "nuid": "63cde680-54b5-48c8-a379-380a383579fc",
     "showTitle": false,
     "title": ""
    }
   },
   "outputs": [],
   "source": [
    "my_df=spark.createDataFrame([(101,\"sales\",10000),(102,\"sales\",20000),(103,\"sales\",10000),(104,\"admin\",5000),(105,\"admin\",10000),(106,\"admin\",20000)]\n",
    "                            ,[\"id\",\"department\",\"salary\"])"
   ]
  },
  {
   "cell_type": "code",
   "execution_count": 0,
   "metadata": {
    "application/vnd.databricks.v1+cell": {
     "cellMetadata": {
      "byteLimit": 2048000,
      "rowLimit": 10000
     },
     "inputWidgets": {},
     "nuid": "38a2b98c-e4b6-446c-b103-49f3d98c0670",
     "showTitle": false,
     "title": ""
    }
   },
   "outputs": [
    {
     "output_type": "display_data",
     "data": {
      "text/html": [
       "<style scoped>\n",
       "  .table-result-container {\n",
       "    max-height: 300px;\n",
       "    overflow: auto;\n",
       "  }\n",
       "  table, th, td {\n",
       "    border: 1px solid black;\n",
       "    border-collapse: collapse;\n",
       "  }\n",
       "  th, td {\n",
       "    padding: 5px;\n",
       "  }\n",
       "  th {\n",
       "    text-align: left;\n",
       "  }\n",
       "</style><div class='table-result-container'><table class='table-result'><thead style='background-color: white'><tr><th>id</th><th>department</th><th>salary</th></tr></thead><tbody><tr><td>101</td><td>sales</td><td>10000</td></tr><tr><td>102</td><td>sales</td><td>20000</td></tr><tr><td>103</td><td>sales</td><td>10000</td></tr><tr><td>104</td><td>admin</td><td>5000</td></tr><tr><td>105</td><td>admin</td><td>10000</td></tr><tr><td>106</td><td>admin</td><td>20000</td></tr></tbody></table></div>"
      ]
     },
     "metadata": {
      "application/vnd.databricks.v1+output": {
       "addedWidgets": {},
       "aggData": [],
       "aggError": "",
       "aggOverflow": false,
       "aggSchema": [],
       "aggSeriesLimitReached": false,
       "aggType": "",
       "arguments": {},
       "columnCustomDisplayInfos": {},
       "data": [
        [
         101,
         "sales",
         10000
        ],
        [
         102,
         "sales",
         20000
        ],
        [
         103,
         "sales",
         10000
        ],
        [
         104,
         "admin",
         5000
        ],
        [
         105,
         "admin",
         10000
        ],
        [
         106,
         "admin",
         20000
        ]
       ],
       "datasetInfos": [],
       "dbfsResultPath": null,
       "isJsonSchema": true,
       "metadata": {},
       "overflow": false,
       "plotOptions": {
        "customPlotOptions": {},
        "displayType": "table",
        "pivotAggregation": null,
        "pivotColumns": null,
        "xColumns": null,
        "yColumns": null
       },
       "removedWidgets": [],
       "schema": [
        {
         "metadata": "{}",
         "name": "id",
         "type": "\"long\""
        },
        {
         "metadata": "{}",
         "name": "department",
         "type": "\"string\""
        },
        {
         "metadata": "{}",
         "name": "salary",
         "type": "\"long\""
        }
       ],
       "type": "table"
      }
     },
     "output_type": "display_data"
    }
   ],
   "source": [
    "display(my_df)"
   ]
  },
  {
   "cell_type": "code",
   "execution_count": 0,
   "metadata": {
    "application/vnd.databricks.v1+cell": {
     "cellMetadata": {
      "byteLimit": 2048000,
      "rowLimit": 10000
     },
     "inputWidgets": {},
     "nuid": "1f9430c2-76fe-4ce6-bcdd-a304350d85bc",
     "showTitle": false,
     "title": ""
    }
   },
   "outputs": [],
   "source": [
    "from pyspark.sql.functions import dense_rank,col\n",
    "from pyspark.sql import Window"
   ]
  },
  {
   "cell_type": "code",
   "execution_count": 0,
   "metadata": {
    "application/vnd.databricks.v1+cell": {
     "cellMetadata": {
      "byteLimit": 2048000,
      "rowLimit": 10000
     },
     "inputWidgets": {},
     "nuid": "648899d2-ee3b-4a02-a424-76ee57436b37",
     "showTitle": false,
     "title": ""
    }
   },
   "outputs": [
    {
     "output_type": "stream",
     "name": "stdout",
     "output_type": "stream",
     "text": [
      "+---+----------+------+----+\n| id|department|salary|rank|\n+---+----------+------+----+\n|105|     admin| 10000|   2|\n|102|     sales| 20000|   2|\n+---+----------+------+----+\n\n"
     ]
    }
   ],
   "source": [
    "my_df.withColumn(\"rank\",dense_rank().over(Window.partitionBy(col(\"department\")).orderBy(col(\"salary\")))).filter(col(\"rank\") == 2).show()"
   ]
  },
  {
   "cell_type": "code",
   "execution_count": 0,
   "metadata": {
    "application/vnd.databricks.v1+cell": {
     "cellMetadata": {},
     "inputWidgets": {},
     "nuid": "5071019e-de16-4564-9391-5b139cdf5451",
     "showTitle": false,
     "title": ""
    }
   },
   "outputs": [],
   "source": []
  }
 ],
 "metadata": {
  "application/vnd.databricks.v1+notebook": {
   "dashboards": [],
   "language": "python",
   "notebookMetadata": {
    "pythonIndentUnit": 4
   },
   "notebookName": "Day7 Highest Salary Department Wise",
   "widgets": {}
  }
 },
 "nbformat": 4,
 "nbformat_minor": 0
}
